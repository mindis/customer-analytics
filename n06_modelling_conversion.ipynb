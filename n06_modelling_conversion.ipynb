{
 "cells": [
  {
   "cell_type": "markdown",
   "metadata": {},
   "source": [
    "# Modelling Conversion"
   ]
  },
  {
   "cell_type": "markdown",
   "metadata": {},
   "source": [
    "## Code"
   ]
  },
  {
   "cell_type": "code",
   "execution_count": 1,
   "metadata": {},
   "outputs": [],
   "source": [
    "import pickle\n",
    "\n",
    "import numpy as np\n",
    "import pandas as pd\n",
    "import matplotlib.pyplot as plt\n",
    "import seaborn as sns\n",
    "\n",
    "from sklearn.preprocessing import StandardScaler\n",
    "from sklearn.model_selection import train_test_split\n",
    "\n",
    "sns.set(style='whitegrid')"
   ]
  },
  {
   "cell_type": "code",
   "execution_count": 2,
   "metadata": {},
   "outputs": [],
   "source": [
    "def plot_histogram_binary_feature(df: pd.DataFrame, feature_name: str = 'converted', truth_value=1, ax=None):\n",
    "    if ax is None:\n",
    "        fig, ax = plt.subplots(figsize=(7, 4))\n",
    "    \n",
    "    sns.countplot(df[feature_name], ax=ax)\n",
    "    \n",
    "    N_yes = len(df[df[feature_name] == truth_value])\n",
    "    N_no = len(df[df[feature_name] != truth_value])\n",
    "    counts = np.array([N_no, N_yes])\n",
    "    total_count = counts.sum()\n",
    "    pct = (counts / counts.sum()) * 100\n",
    "\n",
    "    for i in range(len(pct)):\n",
    "        p = ax.patches[i]\n",
    "        percentage = '{:.2f}%'.format(pct[i])\n",
    "        x = p.get_x()\n",
    "        y = np.nan_to_num(p.get_y() + p.get_height())\n",
    "        ax.annotate(percentage, (x, y), fontsize=12)\n",
    "    return ax"
   ]
  },
  {
   "cell_type": "markdown",
   "metadata": {},
   "source": [
    "## Data Description"
   ]
  },
  {
   "cell_type": "markdown",
   "metadata": {},
   "source": [
    "The data sets consists of customers that have purchased one or more audiobooks. The data was collected from an audiobook app in a period of two years. We want to predict whether the customer will convert again from the company. By targeting customers who are mostly to come back again, we can improve sales. We also want to discover the important features for conversion. Identifying prospective customers, creates value and growth opportunities.\n",
    "\n",
    "To perform supervised learning, we need labels that show whether a customer will convert. Therefore, additional data were collected over a six months period after the two-year period. During the six-month period, we can check whether a customer bought more audiobooks and assign a label for the corresponding customer in the two-year period dataset. It is assumed that six months is a reasonable time frame to determine if a customer is likely to convert.\n",
    "\n",
    "<img src=\"figures/audiobooks-data-time-line.png\" width=\"500\" />\n"
   ]
  },
  {
   "cell_type": "markdown",
   "metadata": {},
   "source": [
    "The data consists of following columns:\n",
    "\n",
    "- `id`: A unique identifier for the customer\n",
    "\n",
    "- `book_length_mins_total`: Total book length is the sum of the lengths of all purchased audiobooks\n",
    "\n",
    "- `book_length_mins_avg`:  The average book length is the total book length divided by the number of purchases. Number of audiobooks can be found by `book_length_mins_total` / `book_length_mins_avg`\n",
    "\n",
    "- `price_total`: The total price paid by this customer\n",
    "\n",
    "- `price_avg`: The average price for each purchase.\n",
    "\n",
    "- `has_reviewed`: An indicator whether the customer has reviewed one of the audiobooks. A feature that whether the customer enganges with the platform. We can assume that enganged customers are more like to convert again.\n",
    "\n",
    "- `review_score`: The average review across all purchases. The scale is from 1 to 10. Most people do not leave any review so to compensate for missing values in this column, the average review score of 8.91 is inserted. The mean value indicates the status quo. If a review score is larger than the mean then this indicates above average \"feelings\" while a less score indicates below average \"feelings\". The average review he/she left indicates his/her feelings towards the content on the medium as a whole. For example, an average score of 2 indicates the person did not have a pleasant experience with audiobooks especially if the average score in general is 8,91. We can assume that such a customer is not likely to buy again.\n",
    "\n",
    "- `total_mins_listened`: Total minutes listened which is a measure of engagement with the platform.\n",
    "\n",
    "- `completion`: A value between 0 to 1 indicating if the customer has listened to all their audiobooks.\n",
    "\n",
    "- `support_requests`: The total number of support requests opened by the customer. A measure of engagement. High number of requests may indicate frustration with the platform or customers who use the platform often enough to find smaller issues with it. A customer with zero support may actually not use the app that often or is just happy with it.\n",
    "\n",
    "- `last_visit_days_since_first_purchase`: The last time the customer visited the platform since their first purchase. A measure of engagement. The larger the number, the better. If a person engages regularly with the platform this number will be bigger. A value of zero indicates that the customer has only accessed her purchases on the first day.\n",
    "\n",
    "- `converted`: An indicator whether the customer will convert in the future."
   ]
  },
  {
   "cell_type": "markdown",
   "metadata": {},
   "source": [
    "## Exploratory Data Analysis"
   ]
  },
  {
   "cell_type": "code",
   "execution_count": 3,
   "metadata": {},
   "outputs": [],
   "source": [
    "columns = [\n",
    "    'book_length_mins_total', 'book_length_mins_avg', 'price_total', 'price_avg',\n",
    "    'has_reviewed', 'review_score', 'total_mins_listened', 'completion',\n",
    "    'support_requests', 'last_visit_days_since_first_purchase', 'converted'\n",
    "]\n",
    "df_data = pd.read_csv('data/audiobook-customers.csv', names=columns, index_col=0)"
   ]
  },
  {
   "cell_type": "code",
   "execution_count": 4,
   "metadata": {},
   "outputs": [],
   "source": [
    "input_features = columns[:-1]\n",
    "output_feature = columns[-1]"
   ]
  },
  {
   "cell_type": "code",
   "execution_count": 5,
   "metadata": {},
   "outputs": [
    {
     "data": {
      "text/html": [
       "<div>\n",
       "<style scoped>\n",
       "    .dataframe tbody tr th:only-of-type {\n",
       "        vertical-align: middle;\n",
       "    }\n",
       "\n",
       "    .dataframe tbody tr th {\n",
       "        vertical-align: top;\n",
       "    }\n",
       "\n",
       "    .dataframe thead th {\n",
       "        text-align: right;\n",
       "    }\n",
       "</style>\n",
       "<table border=\"1\" class=\"dataframe\">\n",
       "  <thead>\n",
       "    <tr style=\"text-align: right;\">\n",
       "      <th></th>\n",
       "      <th>book_length_mins_total</th>\n",
       "      <th>book_length_mins_avg</th>\n",
       "      <th>price_total</th>\n",
       "      <th>price_avg</th>\n",
       "      <th>has_reviewed</th>\n",
       "      <th>review_score</th>\n",
       "      <th>total_mins_listened</th>\n",
       "      <th>completion</th>\n",
       "      <th>support_requests</th>\n",
       "      <th>last_visit_days_since_first_purchase</th>\n",
       "      <th>converted</th>\n",
       "    </tr>\n",
       "  </thead>\n",
       "  <tbody>\n",
       "    <tr>\n",
       "      <th>873</th>\n",
       "      <td>2160.0</td>\n",
       "      <td>2160</td>\n",
       "      <td>10.13</td>\n",
       "      <td>10.13</td>\n",
       "      <td>0</td>\n",
       "      <td>8.91</td>\n",
       "      <td>0.0</td>\n",
       "      <td>0.0</td>\n",
       "      <td>0</td>\n",
       "      <td>0</td>\n",
       "      <td>1</td>\n",
       "    </tr>\n",
       "    <tr>\n",
       "      <th>611</th>\n",
       "      <td>1404.0</td>\n",
       "      <td>2808</td>\n",
       "      <td>6.66</td>\n",
       "      <td>13.33</td>\n",
       "      <td>1</td>\n",
       "      <td>6.50</td>\n",
       "      <td>0.0</td>\n",
       "      <td>0.0</td>\n",
       "      <td>0</td>\n",
       "      <td>182</td>\n",
       "      <td>1</td>\n",
       "    </tr>\n",
       "    <tr>\n",
       "      <th>705</th>\n",
       "      <td>324.0</td>\n",
       "      <td>324</td>\n",
       "      <td>10.13</td>\n",
       "      <td>10.13</td>\n",
       "      <td>1</td>\n",
       "      <td>9.00</td>\n",
       "      <td>0.0</td>\n",
       "      <td>0.0</td>\n",
       "      <td>1</td>\n",
       "      <td>334</td>\n",
       "      <td>1</td>\n",
       "    </tr>\n",
       "    <tr>\n",
       "      <th>391</th>\n",
       "      <td>1620.0</td>\n",
       "      <td>1620</td>\n",
       "      <td>15.31</td>\n",
       "      <td>15.31</td>\n",
       "      <td>0</td>\n",
       "      <td>9.00</td>\n",
       "      <td>0.0</td>\n",
       "      <td>0.0</td>\n",
       "      <td>0</td>\n",
       "      <td>183</td>\n",
       "      <td>1</td>\n",
       "    </tr>\n",
       "    <tr>\n",
       "      <th>819</th>\n",
       "      <td>432.0</td>\n",
       "      <td>1296</td>\n",
       "      <td>7.11</td>\n",
       "      <td>21.33</td>\n",
       "      <td>1</td>\n",
       "      <td>9.00</td>\n",
       "      <td>0.0</td>\n",
       "      <td>0.0</td>\n",
       "      <td>0</td>\n",
       "      <td>0</td>\n",
       "      <td>1</td>\n",
       "    </tr>\n",
       "  </tbody>\n",
       "</table>\n",
       "</div>"
      ],
      "text/plain": [
       "     book_length_mins_total  book_length_mins_avg  price_total  price_avg  \\\n",
       "873                  2160.0                  2160        10.13      10.13   \n",
       "611                  1404.0                  2808         6.66      13.33   \n",
       "705                   324.0                   324        10.13      10.13   \n",
       "391                  1620.0                  1620        15.31      15.31   \n",
       "819                   432.0                  1296         7.11      21.33   \n",
       "\n",
       "     has_reviewed  review_score  total_mins_listened  completion  \\\n",
       "873             0          8.91                  0.0         0.0   \n",
       "611             1          6.50                  0.0         0.0   \n",
       "705             1          9.00                  0.0         0.0   \n",
       "391             0          9.00                  0.0         0.0   \n",
       "819             1          9.00                  0.0         0.0   \n",
       "\n",
       "     support_requests  last_visit_days_since_first_purchase  converted  \n",
       "873                 0                                     0          1  \n",
       "611                 0                                   182          1  \n",
       "705                 1                                   334          1  \n",
       "391                 0                                   183          1  \n",
       "819                 0                                     0          1  "
      ]
     },
     "execution_count": 5,
     "metadata": {},
     "output_type": "execute_result"
    }
   ],
   "source": [
    "df_data.head()"
   ]
  },
  {
   "cell_type": "markdown",
   "metadata": {},
   "source": [
    "The mean review score of 8.91 is relatively high. \n",
    "It would be interesting to know if the customer who leave above average review score have actually listened to more than 10 minutes of the audiobook. "
   ]
  },
  {
   "cell_type": "code",
   "execution_count": 6,
   "metadata": {},
   "outputs": [
    {
     "name": "stdout",
     "output_type": "stream",
     "text": [
      "2264: Number of customers who have left are review\n",
      "1548: Number of customers with above average review score\n",
      "68 % of customers have given above average review score.\n",
      "0: Number of customer with above avg score who listened to their audiobooks.\n"
     ]
    }
   ],
   "source": [
    "f_reviewed = df_data['has_reviewed'] == 1\n",
    "f_gt_avg = df_data['review_score'] > 8.91\n",
    "f_listened = df_data['total_mins_listened'] > 10\n",
    "\n",
    "count_left_review = len(df_data[f_reviewed])\n",
    "count_above_average_review = len(df_data[f_reviewed & f_gt_avg])\n",
    "count_above_average_review_listened = len(df_data[f_reviewed & f_gt_avg & f_listened])\n",
    "\n",
    "ratio = count_above_average_review / count_left_review\n",
    "\n",
    "print(f'{count_left_review}: Number of customers who have left are review')\n",
    "print(f'{count_above_average_review}: Number of customers with above average review score')\n",
    "print(f'{ratio*100:.0f} % of customers have given above average review score.')\n",
    "\n",
    "print(f'{count_above_average_review_listened}: Number of customer with above avg score who listened to their audiobooks.')\n"
   ]
  },
  {
   "cell_type": "markdown",
   "metadata": {},
   "source": [
    "68% of customers who left a review, gave an above average score. However, none of them have listened to more than 10 minutes of the audiobooks."
   ]
  },
  {
   "cell_type": "markdown",
   "metadata": {},
   "source": [
    "### Types"
   ]
  },
  {
   "cell_type": "code",
   "execution_count": 7,
   "metadata": {},
   "outputs": [
    {
     "data": {
      "text/plain": [
       "book_length_mins_total                  float64\n",
       "book_length_mins_avg                      int64\n",
       "price_total                             float64\n",
       "price_avg                               float64\n",
       "has_reviewed                              int64\n",
       "review_score                            float64\n",
       "total_mins_listened                     float64\n",
       "completion                              float64\n",
       "support_requests                          int64\n",
       "last_visit_days_since_first_purchase      int64\n",
       "converted                                 int64\n",
       "dtype: object"
      ]
     },
     "execution_count": 7,
     "metadata": {},
     "output_type": "execute_result"
    }
   ],
   "source": [
    "df_data.dtypes"
   ]
  },
  {
   "cell_type": "markdown",
   "metadata": {},
   "source": [
    "### Data Checks and Preprocessing"
   ]
  },
  {
   "cell_type": "code",
   "execution_count": 8,
   "metadata": {},
   "outputs": [
    {
     "data": {
      "text/html": [
       "<div>\n",
       "<style scoped>\n",
       "    .dataframe tbody tr th:only-of-type {\n",
       "        vertical-align: middle;\n",
       "    }\n",
       "\n",
       "    .dataframe tbody tr th {\n",
       "        vertical-align: top;\n",
       "    }\n",
       "\n",
       "    .dataframe thead th {\n",
       "        text-align: right;\n",
       "    }\n",
       "</style>\n",
       "<table border=\"1\" class=\"dataframe\">\n",
       "  <thead>\n",
       "    <tr style=\"text-align: right;\">\n",
       "      <th></th>\n",
       "      <th>Number</th>\n",
       "    </tr>\n",
       "  </thead>\n",
       "  <tbody>\n",
       "    <tr>\n",
       "      <th>book_length_mins_total</th>\n",
       "      <td>0</td>\n",
       "    </tr>\n",
       "    <tr>\n",
       "      <th>book_length_mins_avg</th>\n",
       "      <td>0</td>\n",
       "    </tr>\n",
       "    <tr>\n",
       "      <th>price_total</th>\n",
       "      <td>0</td>\n",
       "    </tr>\n",
       "    <tr>\n",
       "      <th>price_avg</th>\n",
       "      <td>0</td>\n",
       "    </tr>\n",
       "    <tr>\n",
       "      <th>has_reviewed</th>\n",
       "      <td>0</td>\n",
       "    </tr>\n",
       "    <tr>\n",
       "      <th>review_score</th>\n",
       "      <td>0</td>\n",
       "    </tr>\n",
       "    <tr>\n",
       "      <th>total_mins_listened</th>\n",
       "      <td>0</td>\n",
       "    </tr>\n",
       "    <tr>\n",
       "      <th>completion</th>\n",
       "      <td>0</td>\n",
       "    </tr>\n",
       "    <tr>\n",
       "      <th>support_requests</th>\n",
       "      <td>0</td>\n",
       "    </tr>\n",
       "    <tr>\n",
       "      <th>last_visit_days_since_first_purchase</th>\n",
       "      <td>0</td>\n",
       "    </tr>\n",
       "    <tr>\n",
       "      <th>converted</th>\n",
       "      <td>0</td>\n",
       "    </tr>\n",
       "  </tbody>\n",
       "</table>\n",
       "</div>"
      ],
      "text/plain": [
       "                                      Number\n",
       "book_length_mins_total                     0\n",
       "book_length_mins_avg                       0\n",
       "price_total                                0\n",
       "price_avg                                  0\n",
       "has_reviewed                               0\n",
       "review_score                               0\n",
       "total_mins_listened                        0\n",
       "completion                                 0\n",
       "support_requests                           0\n",
       "last_visit_days_since_first_purchase       0\n",
       "converted                                  0"
      ]
     },
     "execution_count": 8,
     "metadata": {},
     "output_type": "execute_result"
    }
   ],
   "source": [
    "# Check for missing values\n",
    "pd.DataFrame(df_data.isnull().sum(), columns=['Number'])"
   ]
  },
  {
   "cell_type": "code",
   "execution_count": 9,
   "metadata": {},
   "outputs": [
    {
     "data": {
      "text/plain": [
       "False"
      ]
     },
     "execution_count": 9,
     "metadata": {},
     "output_type": "execute_result"
    }
   ],
   "source": [
    "# Check if any rows contain constant values\n",
    "(df_data.nunique(axis=1) == 1).any()"
   ]
  },
  {
   "cell_type": "code",
   "execution_count": 10,
   "metadata": {},
   "outputs": [
    {
     "data": {
      "text/plain": [
       "book_length_mins_total                  False\n",
       "book_length_mins_avg                    False\n",
       "price_total                             False\n",
       "price_avg                               False\n",
       "has_reviewed                            False\n",
       "review_score                            False\n",
       "total_mins_listened                     False\n",
       "completion                              False\n",
       "support_requests                        False\n",
       "last_visit_days_since_first_purchase    False\n",
       "converted                               False\n",
       "dtype: bool"
      ]
     },
     "execution_count": 10,
     "metadata": {},
     "output_type": "execute_result"
    }
   ],
   "source": [
    "# Check if there are any columns with a constant value\n",
    "df_data.nunique(axis=0) == 1"
   ]
  },
  {
   "cell_type": "code",
   "execution_count": 11,
   "metadata": {},
   "outputs": [
    {
     "name": "stdout",
     "output_type": "stream",
     "text": [
      "Number of duplicate rows: 3575\n"
     ]
    }
   ],
   "source": [
    "# Check number of duplicate rows.\n",
    "n_duplicates = len(df_data[df_data.duplicated()])\n",
    "print(f'Number of duplicate rows: {n_duplicates}')"
   ]
  },
  {
   "cell_type": "markdown",
   "metadata": {},
   "source": [
    "Remove duplicates as they can be an issue when data is split into training, validation and test sets."
   ]
  },
  {
   "cell_type": "code",
   "execution_count": 12,
   "metadata": {},
   "outputs": [
    {
     "name": "stdout",
     "output_type": "stream",
     "text": [
      "Removed 3575 duplicate rows.\n"
     ]
    }
   ],
   "source": [
    "n_before = len(df_data)\n",
    "df_data.drop_duplicates(inplace=True)\n",
    "n_after = len(df_data)\n",
    "print(f'Removed {n_before - n_after} duplicate rows.')"
   ]
  },
  {
   "cell_type": "markdown",
   "metadata": {},
   "source": [
    "Next, let us determine whether the dataset is imbalanced."
   ]
  },
  {
   "cell_type": "code",
   "execution_count": 13,
   "metadata": {},
   "outputs": [
    {
     "data": {
      "image/png": "[encoded data removed]",
      "text/plain": [
       "<Figure size 504x288 with 1 Axes>"
      ]
     },
     "metadata": {},
     "output_type": "display_data"
    }
   ],
   "source": [
    "plot_histogram_binary_feature(df_data);"
   ]
  },
  {
   "cell_type": "markdown",
   "metadata": {},
   "source": [
    "The dataset is not balanced as the distribution is roughly 1:4. When the data is imbalanced, we should avoid using the accuracy metric because it does not consider data imbalance. Other metrics such as F1 score and ROC-AUC (Area Under the Curve) are better suited. Imbalanced data increases the risk of our model performing poorly because it is biased against the majority class. This may result in a model does not model the minority class well. Although we have less data for the minority class, we are more interested in accurately predicting customer who are likely to convert."
   ]
  },
  {
   "cell_type": "markdown",
   "metadata": {},
   "source": [
    "Let us balance the dataset by subsampling the majority class."
   ]
  },
  {
   "cell_type": "code",
   "execution_count": 14,
   "metadata": {},
   "outputs": [],
   "source": [
    "df_data_grouped = df_data.groupby('converted')\n",
    "N_minority_class = df_data_grouped.size().min()\n",
    "df_data_balanced = df_data_grouped.apply(lambda df: df.sample(N_minority_class)).reset_index(drop=True)"
   ]
  },
  {
   "cell_type": "code",
   "execution_count": 15,
   "metadata": {},
   "outputs": [
    {
     "data": {
      "image/png": "[encoded data removed]",
      "text/plain": [
       "<Figure size 504x288 with 1 Axes>"
      ]
     },
     "metadata": {},
     "output_type": "display_data"
    }
   ],
   "source": [
    "plot_histogram_binary_feature(df_data_balanced);"
   ]
  },
  {
   "cell_type": "markdown",
   "metadata": {},
   "source": [
    "Let us shuffle and split the data:"
   ]
  },
  {
   "cell_type": "code",
   "execution_count": 16,
   "metadata": {},
   "outputs": [],
   "source": [
    "X = df_data_balanced[input_features]\n",
    "y = df_data_balanced[output_feature]"
   ]
  },
  {
   "cell_type": "code",
   "execution_count": 17,
   "metadata": {},
   "outputs": [],
   "source": [
    "X_train, X_test, y_train, y_test = train_test_split(X, y, test_size=0.2, shuffle=True, random_state=42, stratify=y)"
   ]
  },
  {
   "cell_type": "markdown",
   "metadata": {},
   "source": [
    "Next, we scale relevant features:"
   ]
  },
  {
   "cell_type": "code",
   "execution_count": 18,
   "metadata": {},
   "outputs": [],
   "source": [
    "scaler = StandardScaler()\n",
    "\n",
    "scaler.fit(X_train)  # Calculate statistics on the training data\n",
    "\n",
    "X_train = scaler.transform(X_train)\n",
    "X_test = scaler.transform(X_test)"
   ]
  },
  {
   "cell_type": "markdown",
   "metadata": {},
   "source": [
    "The final steps include:\n",
    "- select a few algorithms to try out on the data\n",
    "- find the best hyper-parameter optimisation for each algorithm on the data using cross-validation (CV)\n",
    "- pick the model that is likely to perform well on the test data based on the CV results\n",
    "- evaluate the chosen model on the test data\n",
    "- save the scaler and the model on disk\n",
    "- apply it to new data e.g. `data/audiobook-customers-new.csv`"
   ]
  },
  {
   "cell_type": "code",
   "execution_count": null,
   "metadata": {},
   "outputs": [],
   "source": []
  }
 ],
 "metadata": {
  "kernelspec": {
   "display_name": "Python 3",
   "language": "python",
   "name": "python3"
  },
  "language_info": {
   "codemirror_mode": {
    "name": "ipython",
    "version": 3
   },
   "file_extension": ".py",
   "mimetype": "text/x-python",
   "name": "python",
   "nbconvert_exporter": "python",
   "pygments_lexer": "ipython3",
   "version": "3.8.2"
  }
 },
 "nbformat": 4,
 "nbformat_minor": 4
}

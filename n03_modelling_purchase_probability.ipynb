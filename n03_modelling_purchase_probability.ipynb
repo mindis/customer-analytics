{
 "cells": [
  {
   "cell_type": "markdown",
   "metadata": {},
   "source": [
    "# Modelling Purchase Probability"
   ]
  },
  {
   "cell_type": "markdown",
   "metadata": {},
   "source": [
    "In this notebook, we explore how to model purchase probability i.e. whether a customer will buy a product from a specific product category when they enter a store. The main objective is to develop a statistical model which estimate purchase probability for each customer at each shopping trip based on historical data. "
   ]
  },
  {
   "cell_type": "markdown",
   "metadata": {},
   "source": [
    "## Code"
   ]
  },
  {
   "cell_type": "code",
   "execution_count": 1,
   "metadata": {},
   "outputs": [],
   "source": [
    "import pickle\n",
    "\n",
    "import numpy as np\n",
    "import pandas as pd\n",
    "import matplotlib.pyplot as plt\n",
    "import seaborn as sns\n",
    "\n",
    "from matplotlib.colors import ListedColormap\n",
    "\n",
    "from scipy.cluster.hierarchy import dendrogram, linkage\n",
    "\n",
    "from sklearn.preprocessing import StandardScaler\n",
    "from sklearn.cluster import KMeans\n",
    "from sklearn.decomposition import PCA\n",
    "from sklearn.linear_model import LogisticRegression\n",
    "\n",
    "import plotly.express as px\n",
    "\n",
    "sns.set(style='whitegrid')"
   ]
  },
  {
   "cell_type": "code",
   "execution_count": 2,
   "metadata": {},
   "outputs": [],
   "source": [
    "segment_labels = pickle.load(open('models/segment-labels.pickle', 'rb'))\n",
    "segment_colours = ['lightskyblue', 'red', 'gold', 'green']\n",
    "segment_colour_palette = sns.color_palette(segment_colours)"
   ]
  },
  {
   "cell_type": "code",
   "execution_count": 3,
   "metadata": {},
   "outputs": [],
   "source": [
    "def calc_elasticities_for_segment(df: pd.DataFrame, segment: int, price_range=(0.5, 3.5)):\n",
    "    df_data = df[df['Segment'] == segment]\n",
    "    x = np.array(df_data['Avg_Price']).reshape(-1, 1)\n",
    "    y = np.array(df_data['Incidence'])\n",
    "    \n",
    "    # Fit a model\n",
    "    lr = LogisticRegression(solver='sag')\n",
    "    lr.fit(x, y)\n",
    "    \n",
    "    # Generate predictions for the chosen price range\n",
    "    price_range_arr = np.arange(price_range[0], price_range[1], 0.01).reshape(-1, 1)\n",
    "    y_preds = y_preds = lr.predict_proba(price_range_arr)\n",
    "    \n",
    "    # Compute the price elasticities\n",
    "    purchase_probability = y_preds[:,1].reshape(-1, 1)\n",
    "    beta = lr.coef_.squeeze().item(0)  # Get the model coefficient\n",
    "    price_elasticity = beta * price_range_arr * (1 - purchase_probability)\n",
    "\n",
    "    # Create elasticity DataFrame\n",
    "    elasticity_data = np.concatenate([price_range_arr, price_elasticity], axis=1)\n",
    "    df_elasticities = pd.DataFrame(elasticity_data, columns=['Price', 'Elasticity'])\n",
    "    \n",
    "    inelasticty_end = df_elasticities[df_elasticities['Elasticity'] < -1]['Price'].iloc[0]\n",
    "    \n",
    "    return df_elasticities"
   ]
  },
  {
   "cell_type": "markdown",
   "metadata": {},
   "source": [
    "## Logistic Regression Model"
   ]
  },
  {
   "cell_type": "markdown",
   "metadata": {},
   "source": [
    "Backed by research, we build a simple model where the assumption is that the purchase probability is influenced by the average price of a product."
   ]
  },
  {
   "cell_type": "code",
   "execution_count": 4,
   "metadata": {},
   "outputs": [],
   "source": [
    "df_purchases = pd.read_csv('data/fmcg-store-purchases-augmented.csv', index_col=0)"
   ]
  },
  {
   "cell_type": "code",
   "execution_count": 5,
   "metadata": {},
   "outputs": [],
   "source": [
    "df_purchases['Avg_Price'] = (\n",
    "    df_purchases['Price_1'] + df_purchases['Price_2'] +\n",
    "    df_purchases['Price_3'] + df_purchases['Price_4'] +\n",
    "    df_purchases['Price_5']) / 5"
   ]
  },
  {
   "cell_type": "code",
   "execution_count": 6,
   "metadata": {},
   "outputs": [],
   "source": [
    "x = np.array(df_purchases['Avg_Price']).reshape(-1, 1)\n",
    "y = np.array(df_purchases['Incidence'])"
   ]
  },
  {
   "cell_type": "code",
   "execution_count": 7,
   "metadata": {},
   "outputs": [
    {
     "data": {
      "text/plain": [
       "LogisticRegression(C=1.0, class_weight=None, dual=False, fit_intercept=True,\n",
       "                   intercept_scaling=1, l1_ratio=None, max_iter=100,\n",
       "                   multi_class='auto', n_jobs=None, penalty='l2',\n",
       "                   random_state=None, solver='sag', tol=0.0001, verbose=0,\n",
       "                   warm_start=False)"
      ]
     },
     "execution_count": 7,
     "metadata": {},
     "output_type": "execute_result"
    }
   ],
   "source": [
    "lr = LogisticRegression(solver='sag')\n",
    "lr.fit(x, y)"
   ]
  },
  {
   "cell_type": "markdown",
   "metadata": {},
   "source": [
    "Let us look at the slope of the linear model:"
   ]
  },
  {
   "cell_type": "code",
   "execution_count": 8,
   "metadata": {},
   "outputs": [
    {
     "data": {
      "text/plain": [
       "array([[-2.34692563]])"
      ]
     },
     "execution_count": 8,
     "metadata": {},
     "output_type": "execute_result"
    }
   ],
   "source": [
    "lr.coef_"
   ]
  },
  {
   "cell_type": "markdown",
   "metadata": {},
   "source": [
    "So there is an inverse proportionality between price and purchase probability. The coefficient of the independent variable tells us that a decrease in the average price will lead to an increase in purchase probability. This does not come as a surprise. The model quantifies the exact relationship between price and purchase probability.\n",
    "\n",
    "\n"
   ]
  },
  {
   "cell_type": "markdown",
   "metadata": {},
   "source": [
    "## Price Elasticity"
   ]
  },
  {
   "cell_type": "markdown",
   "metadata": {},
   "source": [
    "Price elasticity of purchase probability is the percentage change in purchase probability in response to a 1% change in the respective aggregate price for the product category.\n",
    "\n",
    "Per definition, elasticity measure the percentage change in the output variable (in this case purchase probability)\n",
    "given a 1% change in the input variable (in our case the average price). If percent change is greater than 100%,\n",
    "then the output (the purchase probability) is elastic. For changes less than 100%, it is inelastic. \n",
    "In other words, if $|E| < 1$ i.e. the absolute elasticity value is smaller than 1 then it is **inelastic**, \n",
    "otherwise it is elastic. \n",
    "\n",
    "The general recommendation is to increase the price, for price points which are inelastic because it would not cause a significant decrease in the output variable (purchase probability). On the other hand, if a price point is elastic, then we should decrease the price.\n",
    "\n",
    "Calculating the price elasticity can help us answer this question:\n",
    "\n",
    "> How does demand for the product change with the given change in price?"
   ]
  },
  {
   "cell_type": "markdown",
   "metadata": {},
   "source": [
    "The elasticity can be calculated as follows:\n",
    "\\begin{align}\n",
    "E\n",
    "&=\n",
    "\\frac{\n",
    "  \\Delta Pr(purchase) / Pr(purchase)\n",
    "}{\n",
    "  \\Delta Price / Price\n",
    "}\n",
    "=\n",
    "\\frac{\n",
    "  \\Delta Pr(purchase)\n",
    "}{\n",
    "  \\Delta Price\n",
    "}\n",
    "\\cdot\n",
    "\\frac{\n",
    "  Price\n",
    "}{\n",
    "  Pr(purchase)\n",
    "}\\\\\n",
    "&=\n",
    "\\beta \\cdot Price \\cdot(1 - Pr(purchase))\n",
    "\\end{align}\n",
    "where $\\beta$ is the coefficient of the model."
   ]
  },
  {
   "cell_type": "markdown",
   "metadata": {},
   "source": [
    "We can analyse a range of values for the mean price and determine how they effect the purchase probability. The range of prices can be determined by looking at the dataset."
   ]
  },
  {
   "cell_type": "code",
   "execution_count": 9,
   "metadata": {},
   "outputs": [
    {
     "data": {
      "text/html": [
       "<div>\n",
       "<style scoped>\n",
       "    .dataframe tbody tr th:only-of-type {\n",
       "        vertical-align: middle;\n",
       "    }\n",
       "\n",
       "    .dataframe tbody tr th {\n",
       "        vertical-align: top;\n",
       "    }\n",
       "\n",
       "    .dataframe thead th {\n",
       "        text-align: right;\n",
       "    }\n",
       "</style>\n",
       "<table border=\"1\" class=\"dataframe\">\n",
       "  <thead>\n",
       "    <tr style=\"text-align: right;\">\n",
       "      <th></th>\n",
       "      <th>Price_1</th>\n",
       "      <th>Price_2</th>\n",
       "      <th>Price_3</th>\n",
       "      <th>Price_4</th>\n",
       "      <th>Price_5</th>\n",
       "    </tr>\n",
       "  </thead>\n",
       "  <tbody>\n",
       "    <tr>\n",
       "      <th>count</th>\n",
       "      <td>58693.000000</td>\n",
       "      <td>58693.000000</td>\n",
       "      <td>58693.000000</td>\n",
       "      <td>58693.000000</td>\n",
       "      <td>58693.000000</td>\n",
       "    </tr>\n",
       "    <tr>\n",
       "      <th>mean</th>\n",
       "      <td>1.392074</td>\n",
       "      <td>1.780999</td>\n",
       "      <td>2.006789</td>\n",
       "      <td>2.159945</td>\n",
       "      <td>2.654798</td>\n",
       "    </tr>\n",
       "    <tr>\n",
       "      <th>std</th>\n",
       "      <td>0.091139</td>\n",
       "      <td>0.170868</td>\n",
       "      <td>0.046867</td>\n",
       "      <td>0.089825</td>\n",
       "      <td>0.098272</td>\n",
       "    </tr>\n",
       "    <tr>\n",
       "      <th>min</th>\n",
       "      <td>1.100000</td>\n",
       "      <td>1.260000</td>\n",
       "      <td>1.870000</td>\n",
       "      <td>1.760000</td>\n",
       "      <td>2.110000</td>\n",
       "    </tr>\n",
       "    <tr>\n",
       "      <th>25%</th>\n",
       "      <td>1.340000</td>\n",
       "      <td>1.580000</td>\n",
       "      <td>1.970000</td>\n",
       "      <td>2.120000</td>\n",
       "      <td>2.630000</td>\n",
       "    </tr>\n",
       "    <tr>\n",
       "      <th>50%</th>\n",
       "      <td>1.390000</td>\n",
       "      <td>1.880000</td>\n",
       "      <td>2.010000</td>\n",
       "      <td>2.170000</td>\n",
       "      <td>2.670000</td>\n",
       "    </tr>\n",
       "    <tr>\n",
       "      <th>75%</th>\n",
       "      <td>1.470000</td>\n",
       "      <td>1.890000</td>\n",
       "      <td>2.060000</td>\n",
       "      <td>2.240000</td>\n",
       "      <td>2.700000</td>\n",
       "    </tr>\n",
       "    <tr>\n",
       "      <th>max</th>\n",
       "      <td>1.590000</td>\n",
       "      <td>1.900000</td>\n",
       "      <td>2.140000</td>\n",
       "      <td>2.260000</td>\n",
       "      <td>2.800000</td>\n",
       "    </tr>\n",
       "  </tbody>\n",
       "</table>\n",
       "</div>"
      ],
      "text/plain": [
       "            Price_1       Price_2       Price_3       Price_4       Price_5\n",
       "count  58693.000000  58693.000000  58693.000000  58693.000000  58693.000000\n",
       "mean       1.392074      1.780999      2.006789      2.159945      2.654798\n",
       "std        0.091139      0.170868      0.046867      0.089825      0.098272\n",
       "min        1.100000      1.260000      1.870000      1.760000      2.110000\n",
       "25%        1.340000      1.580000      1.970000      2.120000      2.630000\n",
       "50%        1.390000      1.880000      2.010000      2.170000      2.670000\n",
       "75%        1.470000      1.890000      2.060000      2.240000      2.700000\n",
       "max        1.590000      1.900000      2.140000      2.260000      2.800000"
      ]
     },
     "execution_count": 9,
     "metadata": {},
     "output_type": "execute_result"
    }
   ],
   "source": [
    "df_purchases[[f'Price_{i}' for i in range(1, 6)]].describe()"
   ]
  },
  {
   "cell_type": "markdown",
   "metadata": {},
   "source": [
    "The minimum price is 1.1 and maximum price is 2.8. We can extend this range to [0.5, 3.5] because it allows us to gain a better understanding of how the purchase probabilities and corresponding elasticity change. A big enough range may give us valuable information."
   ]
  },
  {
   "cell_type": "code",
   "execution_count": 10,
   "metadata": {},
   "outputs": [],
   "source": [
    "price_range = np.arange(0.5, 3.5, 0.01).reshape(-1, 1)"
   ]
  },
  {
   "cell_type": "markdown",
   "metadata": {},
   "source": [
    "We will use the simple model to generate predictions for the price range."
   ]
  },
  {
   "cell_type": "code",
   "execution_count": 11,
   "metadata": {},
   "outputs": [],
   "source": [
    "y_preds = lr.predict_proba(price_range)"
   ]
  },
  {
   "cell_type": "code",
   "execution_count": 12,
   "metadata": {},
   "outputs": [],
   "source": [
    "# Compute the price elasticities\n",
    "beta = lr.coef_.squeeze().item(0)\n",
    "purchase_probability = y_preds[:,1].reshape(-1, 1)\n",
    "price_elasticity = beta * price_range * (1 - purchase_probability)\n",
    "\n",
    "# Create elasticity DataFrame\n",
    "elasticity_data = np.concatenate([price_range, price_elasticity], axis=1)\n",
    "df_elasticities = pd.DataFrame(elasticity_data, columns=['Price', 'Elasticity'])"
   ]
  },
  {
   "cell_type": "code",
   "execution_count": 13,
   "metadata": {},
   "outputs": [
    {
     "data": {
      "text/html": [
       "<div>\n",
       "<style scoped>\n",
       "    .dataframe tbody tr th:only-of-type {\n",
       "        vertical-align: middle;\n",
       "    }\n",
       "\n",
       "    .dataframe tbody tr th {\n",
       "        vertical-align: top;\n",
       "    }\n",
       "\n",
       "    .dataframe thead th {\n",
       "        text-align: right;\n",
       "    }\n",
       "</style>\n",
       "<table border=\"1\" class=\"dataframe\">\n",
       "  <thead>\n",
       "    <tr style=\"text-align: right;\">\n",
       "      <th></th>\n",
       "      <th>Price</th>\n",
       "      <th>Elasticity</th>\n",
       "    </tr>\n",
       "  </thead>\n",
       "  <tbody>\n",
       "    <tr>\n",
       "      <th>0</th>\n",
       "      <td>0.50</td>\n",
       "      <td>-0.096391</td>\n",
       "    </tr>\n",
       "    <tr>\n",
       "      <th>1</th>\n",
       "      <td>0.51</td>\n",
       "      <td>-0.100458</td>\n",
       "    </tr>\n",
       "    <tr>\n",
       "      <th>2</th>\n",
       "      <td>0.52</td>\n",
       "      <td>-0.104652</td>\n",
       "    </tr>\n",
       "    <tr>\n",
       "      <th>3</th>\n",
       "      <td>0.53</td>\n",
       "      <td>-0.108975</td>\n",
       "    </tr>\n",
       "    <tr>\n",
       "      <th>4</th>\n",
       "      <td>0.54</td>\n",
       "      <td>-0.113432</td>\n",
       "    </tr>\n",
       "  </tbody>\n",
       "</table>\n",
       "</div>"
      ],
      "text/plain": [
       "   Price  Elasticity\n",
       "0   0.50   -0.096391\n",
       "1   0.51   -0.100458\n",
       "2   0.52   -0.104652\n",
       "3   0.53   -0.108975\n",
       "4   0.54   -0.113432"
      ]
     },
     "execution_count": 13,
     "metadata": {},
     "output_type": "execute_result"
    }
   ],
   "source": [
    "df_elasticities.head()"
   ]
  },
  {
   "cell_type": "markdown",
   "metadata": {},
   "source": [
    "To spot patterns, let us graph the price elasticities."
   ]
  },
  {
   "cell_type": "code",
   "execution_count": 14,
   "metadata": {},
   "outputs": [],
   "source": [
    "inelasticty_end = df_elasticities[df_elasticities['Elasticity'] < -1]['Price'].iloc[0]"
   ]
  },
  {
   "cell_type": "code",
   "execution_count": 15,
   "metadata": {},
   "outputs": [
    {
     "data": {
      "image/png": "[encoded data removed]",
      "text/plain": [
       "<Figure size 864x432 with 1 Axes>"
      ]
     },
     "metadata": {},
     "output_type": "display_data"
    }
   ],
   "source": [
    "fig, ax = plt.subplots(figsize=(12, 6))\n",
    "sns.lineplot(x='Price', y='Elasticity', data=df_elasticities, color='grey', ax=ax)\n",
    "ax.axvspan(0.5, inelasticty_end, color=sns.xkcd_rgb['grey'], alpha=0.4)\n",
    "ax.set_title('Price Elasticity of Purchase Probability \\n (Inelastic Price Range Shaded Grey)');"
   ]
  },
  {
   "cell_type": "markdown",
   "metadata": {},
   "source": [
    "The price elasticity decreases as the price increase i.e. the higher the price, the less likely for purchase. \n",
    "This is obvious. The interesting is the rate. The decrease is relatively slow in the range 0.5 to around 1.5, \n",
    "and then it becomes steeper. \n",
    "\n",
    "The price elasticities are all negative. This is because we used the model's coefficient which was negative.\n",
    "So there was an inverse proportionality between price and purchase probability.\n",
    "\n",
    "We can determine whether or not different price points are elastic or not. For example, at the price point of 1.10, the average customer has an elasticity of -0.69. This means that for each increase in price by 1%, the probability of purchase will decrease by 0.69%. Since $|-0.69| < 1$, the purchase probability is inelastic. At 1.50 price point, the elasticity is -1.7. An increase of 1% in price would translate into decline of 1.7% of the purchase probability. In this case, the elasticity of purchase probability is elastic."
   ]
  },
  {
   "cell_type": "markdown",
   "metadata": {},
   "source": [
    "With prices lower than 1.25, we can increase them without losing too much in terms of purchase probability. For prices higher than 1.25, we gain more by reducing the prices."
   ]
  },
  {
   "cell_type": "markdown",
   "metadata": {},
   "source": [
    "The average customer elasticity curve is helpful to get an overview of the overall purchase behaviour. \n",
    "If we want to develop concrete marketing strategy, we need to further refine the analysis.\n",
    "We can create finer analysis by looking at the specific behaviours of different consumer segments."
   ]
  },
  {
   "cell_type": "markdown",
   "metadata": {},
   "source": [
    "### Price Elasticity by Segment"
   ]
  },
  {
   "cell_type": "code",
   "execution_count": 16,
   "metadata": {},
   "outputs": [
    {
     "data": {
      "image/png": "[encoded data removed]",
      "text/plain": [
       "<Figure size 864x432 with 1 Axes>"
      ]
     },
     "metadata": {},
     "output_type": "display_data"
    }
   ],
   "source": [
    "fig, ax = plt.subplots(figsize=(12, 6))\n",
    "sns.lineplot(x='Price', y='Elasticity', data=df_elasticities, label=f'average (inelastic at {inelasticty_end:.2f})', color='grey', ax=ax)\n",
    "for segment, segment_label in segment_labels.items():\n",
    "    df_data = calc_elasticities_for_segment(df_purchases, segment=segment)\n",
    "    cross_point = df_data[df_data['Elasticity'] < -1]['Price'].iloc[0]\n",
    "    # annotation = f'{segment_label}: {cross_point:.2f}'\n",
    "    # ax.annotate(annotation, xy=(cross_point, -1.0), xytext=(1.6,-0.2-(segment*0.15)))\n",
    "    plot_label = f'{segment_label} (inelastic at {cross_point:.2f})'\n",
    "    sns.lineplot(x='Price', y='Elasticity', data=df_data, color=segment_colours[segment], label=plot_label, ax=ax)\n",
    "ax.set_yticks(np.arange(0, -15, -1))\n",
    "ax.set_ylim([-12, 1])\n",
    "arrow_props = dict(arrowstyle= '->',color='blue',lw=1, ls='-')\n",
    "ax.annotate(f'Average: inelastic \\nprice point at {inelasticty_end:.2f}', xy=(inelasticty_end, -1.0), xytext=(0.6,-1.5), arrowprops=arrow_props, va='center')\n",
    "ax.set_title('Price Elasticity of Purchase Probability');"
   ]
  },
  {
   "cell_type": "markdown",
   "metadata": {},
   "source": [
    "Showing all elasticity curves at the same time allows us to compare them:\n",
    "- Standard segment becomes inelastic at price point 1.39. Notice it is 14 cents higher than the average price point. Suppose we want to target the Standard-segment. We could increase the price if the price of a product is between 0.5 to 1.39 and consider decreasing prices after 1.39.\n",
    "\n",
    "- Fewer-Opportunities segment is more price sensitive compared to the average because its curve is both lower and much steeper than the other curves. For example, notice the large difference between the curves for Fewer-Opportunities and Well-Off segments. The steeper curve suggests that we increase the price, consumers become more elastic much faster. The tipping point between elasticity and inelasticity is 1.27. It appears that this segment is more inelastic in the lower than 1.27 price points. This is also evident from the graph where the red line a bit higher than the other curves. There are two factors that may explain this:\n",
    "  1. The first reason is technical in nature. The Fewer-Opportunities segment contains the largest number of consumers. The abundance of data may result in a more sophisticated/better model.\n",
    "  2. The second reason is related to purchasing behaviour. The consumers enjoy chocolate bars so much that a price increase in the lower price range does not affect them and would not stop them from buying the products. However, once it starts to become expensive then they consider it as a luxury product and avoid buying the product. \n"
   ]
  },
  {
   "cell_type": "code",
   "execution_count": null,
   "metadata": {},
   "outputs": [],
   "source": []
  }
 ],
 "metadata": {
  "kernelspec": {
   "display_name": "Python 3",
   "language": "python",
   "name": "python3"
  },
  "language_info": {
   "codemirror_mode": {
    "name": "ipython",
    "version": 3
   },
   "file_extension": ".py",
   "mimetype": "text/x-python",
   "name": "python",
   "nbconvert_exporter": "python",
   "pygments_lexer": "ipython3",
   "version": "3.8.2"
  }
 },
 "nbformat": 4,
 "nbformat_minor": 4
}

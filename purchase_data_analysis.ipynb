{
 "cells": [
  {
   "cell_type": "markdown",
   "metadata": {},
   "source": [
    "# Purchase Data Analysis"
   ]
  },
  {
   "cell_type": "markdown",
   "metadata": {},
   "source": [
    "Exploratory analysis of the purchase dataset in order to glean insights into the customers. The idea is to generate a set of assumptions based on what we observe in the data so we can later tests these hypotheses."
   ]
  },
  {
   "cell_type": "markdown",
   "metadata": {},
   "source": [
    "## Code"
   ]
  },
  {
   "cell_type": "code",
   "execution_count": 1,
   "metadata": {},
   "outputs": [],
   "source": [
    "import pickle\n",
    "\n",
    "import numpy as np\n",
    "import pandas as pd\n",
    "import matplotlib.pyplot as plt\n",
    "import seaborn as sns\n",
    "\n",
    "from matplotlib.colors import ListedColormap\n",
    "\n",
    "from scipy.cluster.hierarchy import dendrogram, linkage\n",
    "\n",
    "from sklearn.preprocessing import StandardScaler\n",
    "from sklearn.cluster import KMeans\n",
    "from sklearn.decomposition import PCA\n",
    "\n",
    "import plotly.express as px\n",
    "\n",
    "sns.set(style='whitegrid')"
   ]
  },
  {
   "cell_type": "code",
   "execution_count": 2,
   "metadata": {},
   "outputs": [],
   "source": [
    "segment_colours = ['lightskyblue', 'red', 'gold', 'green']\n",
    "segment_colour_palette = sns.color_palette(segment_colours)"
   ]
  },
  {
   "cell_type": "code",
   "execution_count": 3,
   "metadata": {},
   "outputs": [],
   "source": [
    "def plot_avg_and_std_per_segment(df_data: pd.DataFrame, kind='N_Visits'):\n",
    "    mean_data = df_data.groupby(['SegmentLabel']).mean()[kind]\n",
    "    std_data = df_data.groupby(['SegmentLabel']).std()[kind]\n",
    "\n",
    "    fig, ax = plt.subplots(figsize=(12, 6))\n",
    "    \n",
    "    sns.barplot(x=mean_data.index, y=mean_data, yerr=std_data, palette=segment_colour_palette, ax=ax)\n",
    "    ax.set_ylabel(f'Average {kind}')\n",
    "    ax.set_xlabel('Segment')\n",
    "    ax.set_title(f'Average {kind} by Segment');"
   ]
  },
  {
   "cell_type": "markdown",
   "metadata": {},
   "source": [
    "## Data Loading"
   ]
  },
  {
   "cell_type": "markdown",
   "metadata": {},
   "source": [
    "The purchase dataset consists of information about the purchases of chocolate candy bars of 500 individuals from a given area when entering a physical FMCG store in a period of 2 years. \n",
    "\n",
    "- Data was collected through the loyalty cards customers use at checkout. \n",
    "- Data was preprocessed and there are no missing values. \n",
    "- The volume of the dataset has been restricted and anonymised to protect the privacy of the customers.\n",
    "- Each row represents a transaction\n",
    "- The ID column correspond to the customer ID. Notice that the customers in this dataset are different from the other dataset."
   ]
  },
  {
   "cell_type": "markdown",
   "metadata": {},
   "source": [
    "| Variable          | Data type   | Range         | Description                                                                                                        |\n",
    "|-------------------|-------------|---------------|--------------------------------------------------------------------------------------------------------------------|\n",
    "| ID                | numerical   | Integer       | Shows a unique   identifier of a customer.                                                                      |\n",
    "| Day               | numerical   | Integer       | Day when the customer has   visited the store                                                                      |\n",
    "| Incidence         | categorical | {0,1}         | Indicator whether the  customer has purchased an item from the category of interest                              |\n",
    "| Brand             | categorical | {0,1,2,3,4,5} | Shows which brand the   customer has purchased. 0=No brand was purchased                                           |\n",
    "| Quantity          | numerical   | integer       | Number of items bought by   the customer from the product category of interest                                     |\n",
    "| Last_Inc_Brand    | categorical | {0,1,2,3,4,5} | Shows which brand the   customer has purchased on their previous store visit. 0=No brand was   purchased           |\n",
    "| Last_Inc_Quantity | numerical   | integer       | Number of items bought by   the customer from the product category of interest during their previous   store visit |\n",
    "| Price_1           | numerical   | real          | Price of an item from   Brand 1 on a particular day                                                                |\n",
    "| Price_2           | numerical   | real          | Price of an item from   Brand 2 on a particular day                                                                |\n",
    "| Price_3           | numerical   | real          | Price of an item from   Brand 3 on a particular day                                                                |\n",
    "| Price_4           | numerical   | real          | Price of an item from   Brand 4 on a particular day                                                                |\n",
    "| Price_5           | numerical   | real          | Price of an item from   Brand 5 on a particular day                                                                |\n",
    "| Promotion_1       | categorical | {0,1}         | Indicator whether Brand 1   was on promotion or not on a particular day                                            |\n",
    "| Promotion_2       | categorical | {0,1}         | Indicator of whether Brand 2 was on promotion   or not on a particular day                                         |\n",
    "| Promotion_3       | categorical | {0,1}         | Indicator of whether Brand 3 was on promotion   or not on a particular day                                         |\n",
    "| Promotion_4       | categorical | {0,1}         | Indicator of whether Brand 4 was on promotion   or not on a particular day                                         |\n",
    "| Promotion_5       | categorical | {0,1}         | Indicator of whether Brand 5 was on promotion   or not on a particular day                                         |\n",
    "| Sex             | categorical | {0,1}     | Biological sex (gender)   of a customer. In this dataset there are only 2 different options. 0 = Male,   1=Female                                             |   |\n",
    "| Marital status  | categorical | {0,1}     | Marital status of a   customer. 0=Single, 1=non-single (divorced / separated / married / widowed)                                                             |   |\n",
    "| Age             | numerical   | Integer   | The age of the customer   in years, calculated as current year minus the year of birth of the customer   at the time of creation of the dataset               |   |\n",
    "| Education       | categorical | {0,1,2,3} | Level of education of the   customer. 0=other/unknown, 1=high school, 2=university, 3=graduate   school                                                       |   |\n",
    "| Income          | numerical   | Real      | Self-reported annual income in US dollars of the customer.                                                                                                    |   |\n",
    "| Occupation      | categorical | {0,1,2}   | Category of occupation of   the customer. 0=unemployed/unskilled, 1=skilled employee/official,   2=management/self-employed/highly qualified employee/officer |   |\n",
    "| Settlement size | categorical | {0,1,2}   | The size of the city that the customer lives in. 0=small,   1=mid-sized, 2=big                                                                                |   |"
   ]
  },
  {
   "cell_type": "code",
   "execution_count": 4,
   "metadata": {},
   "outputs": [],
   "source": [
    "df_purchases = pd.read_csv('data/fmcg-store-purchases.csv')"
   ]
  },
  {
   "cell_type": "code",
   "execution_count": 5,
   "metadata": {},
   "outputs": [
    {
     "data": {
      "text/html": [
       "<div>\n",
       "<style scoped>\n",
       "    .dataframe tbody tr th:only-of-type {\n",
       "        vertical-align: middle;\n",
       "    }\n",
       "\n",
       "    .dataframe tbody tr th {\n",
       "        vertical-align: top;\n",
       "    }\n",
       "\n",
       "    .dataframe thead th {\n",
       "        text-align: right;\n",
       "    }\n",
       "</style>\n",
       "<table border=\"1\" class=\"dataframe\">\n",
       "  <thead>\n",
       "    <tr style=\"text-align: right;\">\n",
       "      <th></th>\n",
       "      <th>ID</th>\n",
       "      <th>Day</th>\n",
       "      <th>Incidence</th>\n",
       "      <th>Brand</th>\n",
       "      <th>Quantity</th>\n",
       "      <th>Last_Inc_Brand</th>\n",
       "      <th>Last_Inc_Quantity</th>\n",
       "      <th>Price_1</th>\n",
       "      <th>Price_2</th>\n",
       "      <th>Price_3</th>\n",
       "      <th>...</th>\n",
       "      <th>Promotion_3</th>\n",
       "      <th>Promotion_4</th>\n",
       "      <th>Promotion_5</th>\n",
       "      <th>Sex</th>\n",
       "      <th>Marital status</th>\n",
       "      <th>Age</th>\n",
       "      <th>Education</th>\n",
       "      <th>Income</th>\n",
       "      <th>Occupation</th>\n",
       "      <th>Settlement size</th>\n",
       "    </tr>\n",
       "  </thead>\n",
       "  <tbody>\n",
       "    <tr>\n",
       "      <th>0</th>\n",
       "      <td>200000001</td>\n",
       "      <td>1</td>\n",
       "      <td>0</td>\n",
       "      <td>0</td>\n",
       "      <td>0</td>\n",
       "      <td>0</td>\n",
       "      <td>0</td>\n",
       "      <td>1.59</td>\n",
       "      <td>1.87</td>\n",
       "      <td>2.01</td>\n",
       "      <td>...</td>\n",
       "      <td>0</td>\n",
       "      <td>0</td>\n",
       "      <td>0</td>\n",
       "      <td>0</td>\n",
       "      <td>0</td>\n",
       "      <td>47</td>\n",
       "      <td>1</td>\n",
       "      <td>110866</td>\n",
       "      <td>1</td>\n",
       "      <td>0</td>\n",
       "    </tr>\n",
       "    <tr>\n",
       "      <th>1</th>\n",
       "      <td>200000001</td>\n",
       "      <td>11</td>\n",
       "      <td>0</td>\n",
       "      <td>0</td>\n",
       "      <td>0</td>\n",
       "      <td>0</td>\n",
       "      <td>0</td>\n",
       "      <td>1.51</td>\n",
       "      <td>1.89</td>\n",
       "      <td>1.99</td>\n",
       "      <td>...</td>\n",
       "      <td>0</td>\n",
       "      <td>0</td>\n",
       "      <td>0</td>\n",
       "      <td>0</td>\n",
       "      <td>0</td>\n",
       "      <td>47</td>\n",
       "      <td>1</td>\n",
       "      <td>110866</td>\n",
       "      <td>1</td>\n",
       "      <td>0</td>\n",
       "    </tr>\n",
       "    <tr>\n",
       "      <th>2</th>\n",
       "      <td>200000001</td>\n",
       "      <td>12</td>\n",
       "      <td>0</td>\n",
       "      <td>0</td>\n",
       "      <td>0</td>\n",
       "      <td>0</td>\n",
       "      <td>0</td>\n",
       "      <td>1.51</td>\n",
       "      <td>1.89</td>\n",
       "      <td>1.99</td>\n",
       "      <td>...</td>\n",
       "      <td>0</td>\n",
       "      <td>0</td>\n",
       "      <td>0</td>\n",
       "      <td>0</td>\n",
       "      <td>0</td>\n",
       "      <td>47</td>\n",
       "      <td>1</td>\n",
       "      <td>110866</td>\n",
       "      <td>1</td>\n",
       "      <td>0</td>\n",
       "    </tr>\n",
       "    <tr>\n",
       "      <th>3</th>\n",
       "      <td>200000001</td>\n",
       "      <td>16</td>\n",
       "      <td>0</td>\n",
       "      <td>0</td>\n",
       "      <td>0</td>\n",
       "      <td>0</td>\n",
       "      <td>0</td>\n",
       "      <td>1.52</td>\n",
       "      <td>1.89</td>\n",
       "      <td>1.98</td>\n",
       "      <td>...</td>\n",
       "      <td>0</td>\n",
       "      <td>0</td>\n",
       "      <td>0</td>\n",
       "      <td>0</td>\n",
       "      <td>0</td>\n",
       "      <td>47</td>\n",
       "      <td>1</td>\n",
       "      <td>110866</td>\n",
       "      <td>1</td>\n",
       "      <td>0</td>\n",
       "    </tr>\n",
       "    <tr>\n",
       "      <th>4</th>\n",
       "      <td>200000001</td>\n",
       "      <td>18</td>\n",
       "      <td>0</td>\n",
       "      <td>0</td>\n",
       "      <td>0</td>\n",
       "      <td>0</td>\n",
       "      <td>0</td>\n",
       "      <td>1.52</td>\n",
       "      <td>1.89</td>\n",
       "      <td>1.99</td>\n",
       "      <td>...</td>\n",
       "      <td>0</td>\n",
       "      <td>0</td>\n",
       "      <td>0</td>\n",
       "      <td>0</td>\n",
       "      <td>0</td>\n",
       "      <td>47</td>\n",
       "      <td>1</td>\n",
       "      <td>110866</td>\n",
       "      <td>1</td>\n",
       "      <td>0</td>\n",
       "    </tr>\n",
       "  </tbody>\n",
       "</table>\n",
       "<p>5 rows × 24 columns</p>\n",
       "</div>"
      ],
      "text/plain": [
       "          ID  Day  Incidence  Brand  Quantity  Last_Inc_Brand  \\\n",
       "0  200000001    1          0      0         0               0   \n",
       "1  200000001   11          0      0         0               0   \n",
       "2  200000001   12          0      0         0               0   \n",
       "3  200000001   16          0      0         0               0   \n",
       "4  200000001   18          0      0         0               0   \n",
       "\n",
       "   Last_Inc_Quantity  Price_1  Price_2  Price_3  ...  Promotion_3  \\\n",
       "0                  0     1.59     1.87     2.01  ...            0   \n",
       "1                  0     1.51     1.89     1.99  ...            0   \n",
       "2                  0     1.51     1.89     1.99  ...            0   \n",
       "3                  0     1.52     1.89     1.98  ...            0   \n",
       "4                  0     1.52     1.89     1.99  ...            0   \n",
       "\n",
       "   Promotion_4  Promotion_5  Sex  Marital status  Age  Education  Income  \\\n",
       "0            0            0    0               0   47          1  110866   \n",
       "1            0            0    0               0   47          1  110866   \n",
       "2            0            0    0               0   47          1  110866   \n",
       "3            0            0    0               0   47          1  110866   \n",
       "4            0            0    0               0   47          1  110866   \n",
       "\n",
       "   Occupation  Settlement size  \n",
       "0           1                0  \n",
       "1           1                0  \n",
       "2           1                0  \n",
       "3           1                0  \n",
       "4           1                0  \n",
       "\n",
       "[5 rows x 24 columns]"
      ]
     },
     "execution_count": 5,
     "metadata": {},
     "output_type": "execute_result"
    }
   ],
   "source": [
    "df_purchases.head()"
   ]
  },
  {
   "cell_type": "markdown",
   "metadata": {},
   "source": [
    "We do not have an equal number of records per customer or an equal number of records per day. So descriptive statistics would neither be appropriate nor useful."
   ]
  },
  {
   "cell_type": "markdown",
   "metadata": {},
   "source": [
    "Number of rows in the purchase data?"
   ]
  },
  {
   "cell_type": "code",
   "execution_count": 6,
   "metadata": {},
   "outputs": [
    {
     "data": {
      "text/plain": [
       "(58693, 24)"
      ]
     },
     "execution_count": 6,
     "metadata": {},
     "output_type": "execute_result"
    }
   ],
   "source": [
    "df_purchases.shape"
   ]
  },
  {
   "cell_type": "markdown",
   "metadata": {},
   "source": [
    "## Segmentation"
   ]
  },
  {
   "cell_type": "markdown",
   "metadata": {},
   "source": [
    "To segment the new customers in the purchases dataset, we apply the saved models from the segmentation notebook."
   ]
  },
  {
   "cell_type": "markdown",
   "metadata": {},
   "source": [
    "Step 1: Standardize the customer columns in the purchase dataset using the saved scaler."
   ]
  },
  {
   "cell_type": "code",
   "execution_count": 7,
   "metadata": {},
   "outputs": [],
   "source": [
    "scaler = pickle.load(open('models/segmentation-scaler.pickle', 'rb'))\n",
    "X_feature_names = pickle.load(open('models/feature-names.pickle', 'rb'))\n",
    "X = scaler.transform(df_purchases[X_feature_names])"
   ]
  },
  {
   "cell_type": "markdown",
   "metadata": {},
   "source": [
    "Step 2: Transform the customers from 7 dimensions to 3 dimensions."
   ]
  },
  {
   "cell_type": "code",
   "execution_count": 8,
   "metadata": {},
   "outputs": [],
   "source": [
    "pca = pickle.load(open('models/segmentation-pca.pickle', 'rb'))\n",
    "X_3d = pca.transform(X)"
   ]
  },
  {
   "cell_type": "markdown",
   "metadata": {},
   "source": [
    "Step 3: Apply k-Means model to segment the data"
   ]
  },
  {
   "cell_type": "code",
   "execution_count": 9,
   "metadata": {},
   "outputs": [],
   "source": [
    "kmeans_pca = pickle.load(open('models/segmentation-kmeans-pca.pickle', 'rb'))\n",
    "segments = kmeans_pca.predict(X_3d)"
   ]
  },
  {
   "cell_type": "markdown",
   "metadata": {},
   "source": [
    "Step 4: Consolidate the segments into the original DataFrame."
   ]
  },
  {
   "cell_type": "code",
   "execution_count": 10,
   "metadata": {},
   "outputs": [],
   "source": [
    "df_purchases['Segment'] = segments\n",
    "\n",
    "# Apply the segment labels\n",
    "segment_labels = pickle.load(open('models/segment-labels.pickle', 'rb'))\n",
    "df_purchases['SegmentLabel'] = df_purchases['Segment'].map(segment_labels)"
   ]
  },
  {
   "cell_type": "markdown",
   "metadata": {},
   "source": [
    "## Descriptive Analysis"
   ]
  },
  {
   "cell_type": "markdown",
   "metadata": {},
   "source": [
    "First, we want to analyse the purchasing behaviour for customers. \n",
    "For that we need to create a new DataFrame where we gather different sets of data."
   ]
  },
  {
   "cell_type": "code",
   "execution_count": 11,
   "metadata": {},
   "outputs": [],
   "source": [
    "# Number of visits per customer\n",
    "df_customer_n_visits = df_purchases[['ID', 'Incidence']].groupby(['ID']).count()\n",
    "df_customer_n_visits.rename(columns={'Incidence': 'N_Visits'}, inplace=True)\n",
    "# df_customer_n_visits.head()"
   ]
  },
  {
   "cell_type": "code",
   "execution_count": 12,
   "metadata": {},
   "outputs": [],
   "source": [
    "# Number of purchases per customer\n",
    "df_customer_n_purchases = df_purchases[['ID', 'Incidence']].groupby(['ID']).sum()\n",
    "df_customer_n_purchases.rename(columns={'Incidence': 'N_Purchases'}, inplace=True)\n",
    "# df_customer_n_purchases.head()"
   ]
  },
  {
   "cell_type": "code",
   "execution_count": 13,
   "metadata": {},
   "outputs": [],
   "source": [
    "# Create a new DataFrame which hold all the statistics\n",
    "df_customer_stats = df_customer_n_purchases.join(df_customer_n_visits)"
   ]
  },
  {
   "cell_type": "code",
   "execution_count": 14,
   "metadata": {},
   "outputs": [],
   "source": [
    "# Compute the purchase frequency per customer.\n",
    "df_customer_stats['Purchase_Freq'] = df_customer_stats['N_Purchases'] / df_customer_stats['N_Visits']\n",
    "# df_customer_stats.head()"
   ]
  },
  {
   "cell_type": "code",
   "execution_count": 15,
   "metadata": {},
   "outputs": [
    {
     "data": {
      "text/html": [
       "<div>\n",
       "<style scoped>\n",
       "    .dataframe tbody tr th:only-of-type {\n",
       "        vertical-align: middle;\n",
       "    }\n",
       "\n",
       "    .dataframe tbody tr th {\n",
       "        vertical-align: top;\n",
       "    }\n",
       "\n",
       "    .dataframe thead th {\n",
       "        text-align: right;\n",
       "    }\n",
       "</style>\n",
       "<table border=\"1\" class=\"dataframe\">\n",
       "  <thead>\n",
       "    <tr style=\"text-align: right;\">\n",
       "      <th></th>\n",
       "      <th>N_Purchases</th>\n",
       "      <th>N_Visits</th>\n",
       "      <th>Purchase_Freq</th>\n",
       "      <th>SegmentLabel</th>\n",
       "    </tr>\n",
       "    <tr>\n",
       "      <th>ID</th>\n",
       "      <th></th>\n",
       "      <th></th>\n",
       "      <th></th>\n",
       "      <th></th>\n",
       "    </tr>\n",
       "  </thead>\n",
       "  <tbody>\n",
       "    <tr>\n",
       "      <th>200000001</th>\n",
       "      <td>9</td>\n",
       "      <td>101</td>\n",
       "      <td>0.089109</td>\n",
       "      <td>fewer-opportunities</td>\n",
       "    </tr>\n",
       "    <tr>\n",
       "      <th>200000002</th>\n",
       "      <td>11</td>\n",
       "      <td>87</td>\n",
       "      <td>0.126437</td>\n",
       "      <td>well-off</td>\n",
       "    </tr>\n",
       "    <tr>\n",
       "      <th>200000003</th>\n",
       "      <td>10</td>\n",
       "      <td>97</td>\n",
       "      <td>0.103093</td>\n",
       "      <td>fewer-opportunities</td>\n",
       "    </tr>\n",
       "    <tr>\n",
       "      <th>200000004</th>\n",
       "      <td>11</td>\n",
       "      <td>85</td>\n",
       "      <td>0.129412</td>\n",
       "      <td>fewer-opportunities</td>\n",
       "    </tr>\n",
       "    <tr>\n",
       "      <th>200000005</th>\n",
       "      <td>13</td>\n",
       "      <td>111</td>\n",
       "      <td>0.117117</td>\n",
       "      <td>standard</td>\n",
       "    </tr>\n",
       "  </tbody>\n",
       "</table>\n",
       "</div>"
      ],
      "text/plain": [
       "           N_Purchases  N_Visits  Purchase_Freq         SegmentLabel\n",
       "ID                                                                  \n",
       "200000001            9       101       0.089109  fewer-opportunities\n",
       "200000002           11        87       0.126437             well-off\n",
       "200000003           10        97       0.103093  fewer-opportunities\n",
       "200000004           11        85       0.129412  fewer-opportunities\n",
       "200000005           13       111       0.117117             standard"
      ]
     },
     "execution_count": 15,
     "metadata": {},
     "output_type": "execute_result"
    }
   ],
   "source": [
    "# Since each customer has a unique SegmentLabel, we can pick the first one.\n",
    "df_customer_segment = df_purchases[['ID', 'SegmentLabel']].groupby(['ID']).first()\n",
    "\n",
    "df_customer_stats = df_customer_stats.join(df_customer_segment)\n",
    "df_customer_stats.head()"
   ]
  },
  {
   "cell_type": "markdown",
   "metadata": {},
   "source": [
    "### Visits per Segment"
   ]
  },
  {
   "cell_type": "code",
   "execution_count": 16,
   "metadata": {},
   "outputs": [
    {
     "data": {
      "text/html": [
       "<div>\n",
       "<style scoped>\n",
       "    .dataframe tbody tr th:only-of-type {\n",
       "        vertical-align: middle;\n",
       "    }\n",
       "\n",
       "    .dataframe tbody tr th {\n",
       "        vertical-align: top;\n",
       "    }\n",
       "\n",
       "    .dataframe thead th {\n",
       "        text-align: right;\n",
       "    }\n",
       "</style>\n",
       "<table border=\"1\" class=\"dataframe\">\n",
       "  <thead>\n",
       "    <tr style=\"text-align: right;\">\n",
       "      <th></th>\n",
       "      <th>Proportion</th>\n",
       "    </tr>\n",
       "    <tr>\n",
       "      <th>SegmentLabel</th>\n",
       "      <th></th>\n",
       "    </tr>\n",
       "  </thead>\n",
       "  <tbody>\n",
       "    <tr>\n",
       "      <th>career-focused</th>\n",
       "      <td>0.208</td>\n",
       "    </tr>\n",
       "    <tr>\n",
       "      <th>fewer-opportunities</th>\n",
       "      <td>0.376</td>\n",
       "    </tr>\n",
       "    <tr>\n",
       "      <th>standard</th>\n",
       "      <td>0.220</td>\n",
       "    </tr>\n",
       "    <tr>\n",
       "      <th>well-off</th>\n",
       "      <td>0.196</td>\n",
       "    </tr>\n",
       "  </tbody>\n",
       "</table>\n",
       "</div>"
      ],
      "text/plain": [
       "                     Proportion\n",
       "SegmentLabel                   \n",
       "career-focused            0.208\n",
       "fewer-opportunities       0.376\n",
       "standard                  0.220\n",
       "well-off                  0.196"
      ]
     },
     "execution_count": 16,
     "metadata": {},
     "output_type": "execute_result"
    }
   ],
   "source": [
    "N_customers = df_customer_stats.shape[0]\n",
    "\n",
    "df_segment_proportions = df_customer_stats[['N_Visits', 'SegmentLabel']].groupby(['SegmentLabel']).count() / N_customers\n",
    "df_segment_proportions = df_segment_proportions.rename(columns={'N_Visits': 'Proportion'})\n",
    "df_segment_proportions.head()"
   ]
  },
  {
   "cell_type": "code",
   "execution_count": null,
   "metadata": {},
   "outputs": [],
   "source": []
  },
  {
   "cell_type": "code",
   "execution_count": 17,
   "metadata": {},
   "outputs": [
    {
     "data": {
      "image/png": "[encoded data removed]",
      "text/plain": [
       "<Figure size 864x432 with 1 Axes>"
      ]
     },
     "metadata": {},
     "output_type": "display_data"
    }
   ],
   "source": [
    "fig, ax = plt.subplots(figsize=(12, 6))\n",
    "ax.pie(\n",
    "    x=df_segment_proportions['Proportion'], \n",
    "    labels=df_segment_proportions.index.values,\n",
    "    autopct='%1.1f%%',\n",
    "    colors=segment_colours\n",
    ")\n",
    "ax.set_title('Proportions of Store Visits by Segment');"
   ]
  },
  {
   "cell_type": "markdown",
   "metadata": {},
   "source": [
    "The pie charts gives us an idea of how store visitors are distributed across segments."
   ]
  },
  {
   "cell_type": "markdown",
   "metadata": {},
   "source": [
    "### Purchase Occasion"
   ]
  },
  {
   "cell_type": "markdown",
   "metadata": {},
   "source": [
    "Next, we want to find a quantitative measure to describe the purchase behaviours by segments.\n",
    "In order words, we would like to answer two questions:\n",
    "\n",
    "1. How often do people from different segment visit the store?\n",
    "2. How often do they buy chocolate candy relative to the store visits?\n",
    "\n",
    "To answer these questions, we can calculate the mean and standard deviations by segments. \n",
    "The mean of a segment indicates the average behaviour of that segment\n",
    "whereas the standard deviation show how homogeneous the segment is."
   ]
  },
  {
   "cell_type": "code",
   "execution_count": 18,
   "metadata": {},
   "outputs": [
    {
     "data": {
      "image/png": "[encoded data removed]",
      "text/plain": [
       "<Figure size 864x432 with 1 Axes>"
      ]
     },
     "metadata": {},
     "output_type": "display_data"
    }
   ],
   "source": [
    "plot_avg_and_std_per_segment(df_customer_stats, 'N_Visits')"
   ]
  },
  {
   "cell_type": "markdown",
   "metadata": {},
   "source": [
    "The spread amount customers in the standard segment is high implying that these customers are least alike when it comes to how often they visit the store. The other segments are very similar in terms of their store visits. This makes more comparable with respect to our future analysis."
   ]
  },
  {
   "cell_type": "markdown",
   "metadata": {},
   "source": [
    "### Purchase Incidence"
   ]
  },
  {
   "cell_type": "markdown",
   "metadata": {},
   "source": [
    "The second question would like to know is how often do people from different segment buy chocolate candy relative to the store visits."
   ]
  },
  {
   "cell_type": "code",
   "execution_count": 19,
   "metadata": {},
   "outputs": [
    {
     "data": {
      "image/png": "[encoded data removed]",
      "text/plain": [
       "<Figure size 864x432 with 1 Axes>"
      ]
     },
     "metadata": {},
     "output_type": "display_data"
    }
   ],
   "source": [
    "plot_avg_and_std_per_segment(df_customer_stats, 'N_Purchases')"
   ]
  },
  {
   "cell_type": "markdown",
   "metadata": {},
   "source": [
    "The standard segment buys on average more chocolate candy more often. \n",
    "Again, the standard deviation is the highest. \n",
    "One explanation could be that a part of the segment buys the product more frequently than other parts.\n",
    "Although consumers in this segment may have similar income, they might differ in what they spend their money on.\n",
    "\n",
    "The most homogeneous segment appears to be consumers in the Fewer-Opportunities segment. This is signified by the segment having the lowest standard deviation.\n",
    "\n"
   ]
  },
  {
   "cell_type": "markdown",
   "metadata": {},
   "source": [
    "### Purchase Frequency"
   ]
  },
  {
   "cell_type": "code",
   "execution_count": 20,
   "metadata": {},
   "outputs": [
    {
     "data": {
      "image/png": "[encoded data removed]",
      "text/plain": [
       "<Figure size 864x432 with 1 Axes>"
      ]
     },
     "metadata": {},
     "output_type": "display_data"
    }
   ],
   "source": [
    "plot_avg_and_std_per_segment(df_customer_stats, 'Purchase_Freq')"
   ]
  },
  {
   "cell_type": "markdown",
   "metadata": {},
   "source": [
    "### Brand Choice"
   ]
  },
  {
   "cell_type": "code",
   "execution_count": 21,
   "metadata": {},
   "outputs": [],
   "source": [
    "df_purchase_incidents = df_purchases[df_purchases['Incidence'] == 1]"
   ]
  },
  {
   "cell_type": "code",
   "execution_count": 22,
   "metadata": {},
   "outputs": [
    {
     "data": {
      "text/html": [
       "<div>\n",
       "<style scoped>\n",
       "    .dataframe tbody tr th:only-of-type {\n",
       "        vertical-align: middle;\n",
       "    }\n",
       "\n",
       "    .dataframe tbody tr th {\n",
       "        vertical-align: top;\n",
       "    }\n",
       "\n",
       "    .dataframe thead th {\n",
       "        text-align: right;\n",
       "    }\n",
       "</style>\n",
       "<table border=\"1\" class=\"dataframe\">\n",
       "  <thead>\n",
       "    <tr style=\"text-align: right;\">\n",
       "      <th></th>\n",
       "      <th>Brand_1</th>\n",
       "      <th>Brand_2</th>\n",
       "      <th>Brand_3</th>\n",
       "      <th>Brand_4</th>\n",
       "      <th>Brand_5</th>\n",
       "    </tr>\n",
       "  </thead>\n",
       "  <tbody>\n",
       "    <tr>\n",
       "      <th>6</th>\n",
       "      <td>0</td>\n",
       "      <td>1</td>\n",
       "      <td>0</td>\n",
       "      <td>0</td>\n",
       "      <td>0</td>\n",
       "    </tr>\n",
       "    <tr>\n",
       "      <th>11</th>\n",
       "      <td>0</td>\n",
       "      <td>0</td>\n",
       "      <td>0</td>\n",
       "      <td>0</td>\n",
       "      <td>1</td>\n",
       "    </tr>\n",
       "    <tr>\n",
       "      <th>19</th>\n",
       "      <td>1</td>\n",
       "      <td>0</td>\n",
       "      <td>0</td>\n",
       "      <td>0</td>\n",
       "      <td>0</td>\n",
       "    </tr>\n",
       "    <tr>\n",
       "      <th>24</th>\n",
       "      <td>0</td>\n",
       "      <td>0</td>\n",
       "      <td>0</td>\n",
       "      <td>1</td>\n",
       "      <td>0</td>\n",
       "    </tr>\n",
       "    <tr>\n",
       "      <th>29</th>\n",
       "      <td>0</td>\n",
       "      <td>1</td>\n",
       "      <td>0</td>\n",
       "      <td>0</td>\n",
       "      <td>0</td>\n",
       "    </tr>\n",
       "  </tbody>\n",
       "</table>\n",
       "</div>"
      ],
      "text/plain": [
       "    Brand_1  Brand_2  Brand_3  Brand_4  Brand_5\n",
       "6         0        1        0        0        0\n",
       "11        0        0        0        0        1\n",
       "19        1        0        0        0        0\n",
       "24        0        0        0        1        0\n",
       "29        0        1        0        0        0"
      ]
     },
     "execution_count": 22,
     "metadata": {},
     "output_type": "execute_result"
    }
   ],
   "source": [
    "df_brand_features = pd.get_dummies(df_purchase_incidents['Brand'], prefix='Brand', prefix_sep='_')\n",
    "df_brand_features.head()"
   ]
  },
  {
   "cell_type": "code",
   "execution_count": 23,
   "metadata": {},
   "outputs": [
    {
     "data": {
      "text/html": [
       "<div>\n",
       "<style scoped>\n",
       "    .dataframe tbody tr th:only-of-type {\n",
       "        vertical-align: middle;\n",
       "    }\n",
       "\n",
       "    .dataframe tbody tr th {\n",
       "        vertical-align: top;\n",
       "    }\n",
       "\n",
       "    .dataframe thead th {\n",
       "        text-align: right;\n",
       "    }\n",
       "</style>\n",
       "<table border=\"1\" class=\"dataframe\">\n",
       "  <thead>\n",
       "    <tr style=\"text-align: right;\">\n",
       "      <th></th>\n",
       "      <th>Brand_1</th>\n",
       "      <th>Brand_2</th>\n",
       "      <th>Brand_3</th>\n",
       "      <th>Brand_4</th>\n",
       "      <th>Brand_5</th>\n",
       "      <th>Segment</th>\n",
       "      <th>ID</th>\n",
       "    </tr>\n",
       "  </thead>\n",
       "  <tbody>\n",
       "    <tr>\n",
       "      <th>6</th>\n",
       "      <td>0</td>\n",
       "      <td>1</td>\n",
       "      <td>0</td>\n",
       "      <td>0</td>\n",
       "      <td>0</td>\n",
       "      <td>1</td>\n",
       "      <td>200000001</td>\n",
       "    </tr>\n",
       "    <tr>\n",
       "      <th>11</th>\n",
       "      <td>0</td>\n",
       "      <td>0</td>\n",
       "      <td>0</td>\n",
       "      <td>0</td>\n",
       "      <td>1</td>\n",
       "      <td>1</td>\n",
       "      <td>200000001</td>\n",
       "    </tr>\n",
       "    <tr>\n",
       "      <th>19</th>\n",
       "      <td>1</td>\n",
       "      <td>0</td>\n",
       "      <td>0</td>\n",
       "      <td>0</td>\n",
       "      <td>0</td>\n",
       "      <td>1</td>\n",
       "      <td>200000001</td>\n",
       "    </tr>\n",
       "    <tr>\n",
       "      <th>24</th>\n",
       "      <td>0</td>\n",
       "      <td>0</td>\n",
       "      <td>0</td>\n",
       "      <td>1</td>\n",
       "      <td>0</td>\n",
       "      <td>1</td>\n",
       "      <td>200000001</td>\n",
       "    </tr>\n",
       "    <tr>\n",
       "      <th>29</th>\n",
       "      <td>0</td>\n",
       "      <td>1</td>\n",
       "      <td>0</td>\n",
       "      <td>0</td>\n",
       "      <td>0</td>\n",
       "      <td>1</td>\n",
       "      <td>200000001</td>\n",
       "    </tr>\n",
       "  </tbody>\n",
       "</table>\n",
       "</div>"
      ],
      "text/plain": [
       "    Brand_1  Brand_2  Brand_3  Brand_4  Brand_5  Segment         ID\n",
       "6         0        1        0        0        0        1  200000001\n",
       "11        0        0        0        0        1        1  200000001\n",
       "19        1        0        0        0        0        1  200000001\n",
       "24        0        0        0        1        0        1  200000001\n",
       "29        0        1        0        0        0        1  200000001"
      ]
     },
     "execution_count": 23,
     "metadata": {},
     "output_type": "execute_result"
    }
   ],
   "source": [
    "# Copy segment and ID from the purchases DataFrame\n",
    "df_brand_features['Segment'] = df_purchase_incidents['Segment']\n",
    "df_brand_features['ID'] = df_purchase_incidents['ID']\n",
    "df_brand_features.head()"
   ]
  },
  {
   "cell_type": "code",
   "execution_count": 24,
   "metadata": {},
   "outputs": [
    {
     "data": {
      "text/html": [
       "<div>\n",
       "<style scoped>\n",
       "    .dataframe tbody tr th:only-of-type {\n",
       "        vertical-align: middle;\n",
       "    }\n",
       "\n",
       "    .dataframe tbody tr th {\n",
       "        vertical-align: top;\n",
       "    }\n",
       "\n",
       "    .dataframe thead th {\n",
       "        text-align: right;\n",
       "    }\n",
       "</style>\n",
       "<table border=\"1\" class=\"dataframe\">\n",
       "  <thead>\n",
       "    <tr style=\"text-align: right;\">\n",
       "      <th></th>\n",
       "      <th>Brand_1</th>\n",
       "      <th>Brand_2</th>\n",
       "      <th>Brand_3</th>\n",
       "      <th>Brand_4</th>\n",
       "      <th>Brand_5</th>\n",
       "      <th>Segment</th>\n",
       "    </tr>\n",
       "    <tr>\n",
       "      <th>ID</th>\n",
       "      <th></th>\n",
       "      <th></th>\n",
       "      <th></th>\n",
       "      <th></th>\n",
       "      <th></th>\n",
       "      <th></th>\n",
       "    </tr>\n",
       "  </thead>\n",
       "  <tbody>\n",
       "    <tr>\n",
       "      <th>200000001</th>\n",
       "      <td>0.111111</td>\n",
       "      <td>0.444444</td>\n",
       "      <td>0.0</td>\n",
       "      <td>0.222222</td>\n",
       "      <td>0.222222</td>\n",
       "      <td>1</td>\n",
       "    </tr>\n",
       "    <tr>\n",
       "      <th>200000002</th>\n",
       "      <td>0.000000</td>\n",
       "      <td>0.090909</td>\n",
       "      <td>0.0</td>\n",
       "      <td>0.909091</td>\n",
       "      <td>0.000000</td>\n",
       "      <td>0</td>\n",
       "    </tr>\n",
       "    <tr>\n",
       "      <th>200000003</th>\n",
       "      <td>0.000000</td>\n",
       "      <td>0.800000</td>\n",
       "      <td>0.0</td>\n",
       "      <td>0.000000</td>\n",
       "      <td>0.200000</td>\n",
       "      <td>1</td>\n",
       "    </tr>\n",
       "    <tr>\n",
       "      <th>200000004</th>\n",
       "      <td>0.000000</td>\n",
       "      <td>0.090909</td>\n",
       "      <td>0.0</td>\n",
       "      <td>0.000000</td>\n",
       "      <td>0.909091</td>\n",
       "      <td>1</td>\n",
       "    </tr>\n",
       "    <tr>\n",
       "      <th>200000005</th>\n",
       "      <td>0.000000</td>\n",
       "      <td>0.000000</td>\n",
       "      <td>0.0</td>\n",
       "      <td>0.000000</td>\n",
       "      <td>1.000000</td>\n",
       "      <td>3</td>\n",
       "    </tr>\n",
       "  </tbody>\n",
       "</table>\n",
       "</div>"
      ],
      "text/plain": [
       "            Brand_1   Brand_2  Brand_3   Brand_4   Brand_5  Segment\n",
       "ID                                                                 \n",
       "200000001  0.111111  0.444444      0.0  0.222222  0.222222        1\n",
       "200000002  0.000000  0.090909      0.0  0.909091  0.000000        0\n",
       "200000003  0.000000  0.800000      0.0  0.000000  0.200000        1\n",
       "200000004  0.000000  0.090909      0.0  0.000000  0.909091        1\n",
       "200000005  0.000000  0.000000      0.0  0.000000  1.000000        3"
      ]
     },
     "execution_count": 24,
     "metadata": {},
     "output_type": "execute_result"
    }
   ],
   "source": [
    "# Compute the average brand choice per customer\n",
    "df_avg_brand_choice_per_customer = df_brand_features.groupby(['ID']).mean()\n",
    "df_avg_brand_choice_per_customer.head()"
   ]
  },
  {
   "cell_type": "code",
   "execution_count": 25,
   "metadata": {},
   "outputs": [
    {
     "data": {
      "text/html": [
       "<div>\n",
       "<style scoped>\n",
       "    .dataframe tbody tr th:only-of-type {\n",
       "        vertical-align: middle;\n",
       "    }\n",
       "\n",
       "    .dataframe tbody tr th {\n",
       "        vertical-align: top;\n",
       "    }\n",
       "\n",
       "    .dataframe thead th {\n",
       "        text-align: right;\n",
       "    }\n",
       "</style>\n",
       "<table border=\"1\" class=\"dataframe\">\n",
       "  <thead>\n",
       "    <tr style=\"text-align: right;\">\n",
       "      <th></th>\n",
       "      <th>Brand_1</th>\n",
       "      <th>Brand_2</th>\n",
       "      <th>Brand_3</th>\n",
       "      <th>Brand_4</th>\n",
       "      <th>Brand_5</th>\n",
       "    </tr>\n",
       "    <tr>\n",
       "      <th>Segment</th>\n",
       "      <th></th>\n",
       "      <th></th>\n",
       "      <th></th>\n",
       "      <th></th>\n",
       "      <th></th>\n",
       "    </tr>\n",
       "  </thead>\n",
       "  <tbody>\n",
       "    <tr>\n",
       "      <th>well-off</th>\n",
       "      <td>0.041928</td>\n",
       "      <td>0.117422</td>\n",
       "      <td>0.030610</td>\n",
       "      <td>0.613623</td>\n",
       "      <td>0.196417</td>\n",
       "    </tr>\n",
       "    <tr>\n",
       "      <th>fewer-opportunities</th>\n",
       "      <td>0.138299</td>\n",
       "      <td>0.679494</td>\n",
       "      <td>0.021034</td>\n",
       "      <td>0.061875</td>\n",
       "      <td>0.099298</td>\n",
       "    </tr>\n",
       "    <tr>\n",
       "      <th>career-focused</th>\n",
       "      <td>0.248771</td>\n",
       "      <td>0.402305</td>\n",
       "      <td>0.154976</td>\n",
       "      <td>0.058902</td>\n",
       "      <td>0.135045</td>\n",
       "    </tr>\n",
       "    <tr>\n",
       "      <th>standard</th>\n",
       "      <td>0.072871</td>\n",
       "      <td>0.146808</td>\n",
       "      <td>0.039976</td>\n",
       "      <td>0.112395</td>\n",
       "      <td>0.627951</td>\n",
       "    </tr>\n",
       "  </tbody>\n",
       "</table>\n",
       "</div>"
      ],
      "text/plain": [
       "                      Brand_1   Brand_2   Brand_3   Brand_4   Brand_5\n",
       "Segment                                                              \n",
       "well-off             0.041928  0.117422  0.030610  0.613623  0.196417\n",
       "fewer-opportunities  0.138299  0.679494  0.021034  0.061875  0.099298\n",
       "career-focused       0.248771  0.402305  0.154976  0.058902  0.135045\n",
       "standard             0.072871  0.146808  0.039976  0.112395  0.627951"
      ]
     },
     "execution_count": 25,
     "metadata": {},
     "output_type": "execute_result"
    }
   ],
   "source": [
    "# Compute the average brand choice per segment\n",
    "df_avg_brand_choice_per_segment = df_avg_brand_choice_per_customer.groupby(['Segment']).mean()\n",
    "df_avg_brand_choice_per_segment.rename(index=segment_labels, inplace=True)\n",
    "df_avg_brand_choice_per_segment"
   ]
  },
  {
   "cell_type": "code",
   "execution_count": 26,
   "metadata": {},
   "outputs": [
    {
     "data": {
      "image/png": "[encoded data removed]",
      "text/plain": [
       "<Figure size 864x432 with 2 Axes>"
      ]
     },
     "metadata": {},
     "output_type": "display_data"
    }
   ],
   "source": [
    "fig, ax = plt.subplots(figsize=(12, 6))\n",
    "sns.heatmap(df_avg_brand_choice_per_segment, vmin=0, vmax=1, cmap='PuBu', annot=True)\n",
    "ax.set_title('Average Brand Choice by Segment');"
   ]
  },
  {
   "cell_type": "markdown",
   "metadata": {},
   "source": [
    "Suppose that the 5 brands are arranged in ascending order of price where Brand 1 is the cheapest one and Brand 2 is the most expensive. We can take this into account when conducting the brand analysis.\n",
    "\n",
    "- Well-Off consumers tend to prefer the Brand 4 but not the most expensive Brand 5.\n",
    "- Consumers in Fewer-Opportunities segment have a strong preference for brand 2. Almost 70% of the consumers use this brand of chocolate. Since the Brand 2 is not the cheapest one, the price is not what matters the most for this segment.\n",
    "- Career-Focused is the most heterogeneous segment. Have a preference for Brand 2 and a weaker preference for Brands 1 and 3. They do not like to buy Brand 4. Their preference is scattered all around. One idea is try to influence them to try out different brands.\n",
    "- Standard consumers prefer the most expensive brand. It seems that this cluster enjoys this brand. With no additional information, we can speculate that this segment is looking for a luxury status. This alone may be an opportunity to rise of Brand 5.\n",
    "\n",
    "The mostly bought brands are Brand 4 followed by Brand 5."
   ]
  },
  {
   "cell_type": "markdown",
   "metadata": {},
   "source": [
    "How does these brand preferences affect our bottom line?"
   ]
  },
  {
   "cell_type": "markdown",
   "metadata": {},
   "source": [
    "### Revenue"
   ]
  },
  {
   "cell_type": "markdown",
   "metadata": {},
   "source": [
    "First, we calculate revenue for each brand. Then we calculate the total revenue for each of the four segments."
   ]
  },
  {
   "cell_type": "code",
   "execution_count": 27,
   "metadata": {},
   "outputs": [],
   "source": [
    "# Define a function which accept calculates the revenue for each brand\n",
    "def calc_revenue(row):\n",
    "    brand = row['Brand']\n",
    "    if brand == 0:\n",
    "        # When brand=0, then no chocolate candy was bought\n",
    "        return 0\n",
    "    return row[f'Price_{brand}'] * row['Quantity']"
   ]
  },
  {
   "cell_type": "code",
   "execution_count": 28,
   "metadata": {},
   "outputs": [],
   "source": [
    "# Apply the function on the DataFrame for each row\n",
    "df_purchases['Revenue'] = df_purchases.apply(calc_revenue, axis=1)"
   ]
  },
  {
   "cell_type": "code",
   "execution_count": 29,
   "metadata": {},
   "outputs": [],
   "source": [
    "def create_brand_revenue_func(brand):\n",
    "    def calc_revenue(row):\n",
    "        if row['Brand'] == brand:\n",
    "            return row[f'Price_{brand}'] * row['Quantity']\n",
    "        return 0\n",
    "    return calc_revenue"
   ]
  },
  {
   "cell_type": "code",
   "execution_count": 30,
   "metadata": {},
   "outputs": [],
   "source": [
    "df_purchases['Revenue_Brand_1'] = df_purchases.apply(create_brand_revenue_func(1), axis=1)\n",
    "df_purchases['Revenue_Brand_2'] = df_purchases.apply(create_brand_revenue_func(2), axis=1)\n",
    "df_purchases['Revenue_Brand_3'] = df_purchases.apply(create_brand_revenue_func(3), axis=1)\n",
    "df_purchases['Revenue_Brand_4'] = df_purchases.apply(create_brand_revenue_func(4), axis=1)\n",
    "df_purchases['Revenue_Brand_5'] = df_purchases.apply(create_brand_revenue_func(5), axis=1)"
   ]
  },
  {
   "cell_type": "code",
   "execution_count": 31,
   "metadata": {},
   "outputs": [],
   "source": [
    "revenue_columns = ['SegmentLabel', 'Revenue_Brand_1', 'Revenue_Brand_2', 'Revenue_Brand_3',\n",
    "                   'Revenue_Brand_4', 'Revenue_Brand_5', 'Revenue']\n",
    "df_revenue =  df_purchases[revenue_columns].groupby(['SegmentLabel']).sum()\n",
    "\n",
    "# Rename column\n",
    "df_revenue.rename(columns={'Revenue': 'Total_Revenue'}, inplace=True)\n",
    "\n",
    "# Add segment's size in relation to other segments\n",
    "df_revenue['Segment_Proportion'] = df_segment_proportions"
   ]
  },
  {
   "cell_type": "code",
   "execution_count": 32,
   "metadata": {},
   "outputs": [
    {
     "data": {
      "text/html": [
       "<div>\n",
       "<style scoped>\n",
       "    .dataframe tbody tr th:only-of-type {\n",
       "        vertical-align: middle;\n",
       "    }\n",
       "\n",
       "    .dataframe tbody tr th {\n",
       "        vertical-align: top;\n",
       "    }\n",
       "\n",
       "    .dataframe thead th {\n",
       "        text-align: right;\n",
       "    }\n",
       "</style>\n",
       "<table border=\"1\" class=\"dataframe\">\n",
       "  <thead>\n",
       "    <tr style=\"text-align: right;\">\n",
       "      <th></th>\n",
       "      <th>Revenue_Brand_1</th>\n",
       "      <th>Revenue_Brand_2</th>\n",
       "      <th>Revenue_Brand_3</th>\n",
       "      <th>Revenue_Brand_4</th>\n",
       "      <th>Revenue_Brand_5</th>\n",
       "      <th>Total_Revenue</th>\n",
       "      <th>Segment_Proportion</th>\n",
       "    </tr>\n",
       "    <tr>\n",
       "      <th>SegmentLabel</th>\n",
       "      <th></th>\n",
       "      <th></th>\n",
       "      <th></th>\n",
       "      <th></th>\n",
       "      <th></th>\n",
       "      <th></th>\n",
       "      <th></th>\n",
       "    </tr>\n",
       "  </thead>\n",
       "  <tbody>\n",
       "    <tr>\n",
       "      <th>career-focused</th>\n",
       "      <td>2611.19</td>\n",
       "      <td>4855.36</td>\n",
       "      <td>3909.17</td>\n",
       "      <td>861.38</td>\n",
       "      <td>2439.75</td>\n",
       "      <td>14676.85</td>\n",
       "      <td>0.208</td>\n",
       "    </tr>\n",
       "    <tr>\n",
       "      <th>fewer-opportunities</th>\n",
       "      <td>2258.90</td>\n",
       "      <td>13868.30</td>\n",
       "      <td>716.25</td>\n",
       "      <td>1629.31</td>\n",
       "      <td>2230.50</td>\n",
       "      <td>20703.26</td>\n",
       "      <td>0.376</td>\n",
       "    </tr>\n",
       "    <tr>\n",
       "      <th>standard</th>\n",
       "      <td>736.09</td>\n",
       "      <td>1746.42</td>\n",
       "      <td>664.75</td>\n",
       "      <td>2363.84</td>\n",
       "      <td>19441.06</td>\n",
       "      <td>24952.16</td>\n",
       "      <td>0.220</td>\n",
       "    </tr>\n",
       "    <tr>\n",
       "      <th>well-off</th>\n",
       "      <td>699.47</td>\n",
       "      <td>1298.23</td>\n",
       "      <td>731.35</td>\n",
       "      <td>14185.57</td>\n",
       "      <td>5509.69</td>\n",
       "      <td>22424.31</td>\n",
       "      <td>0.196</td>\n",
       "    </tr>\n",
       "  </tbody>\n",
       "</table>\n",
       "</div>"
      ],
      "text/plain": [
       "                     Revenue_Brand_1  Revenue_Brand_2  Revenue_Brand_3  \\\n",
       "SegmentLabel                                                             \n",
       "career-focused               2611.19          4855.36          3909.17   \n",
       "fewer-opportunities          2258.90         13868.30           716.25   \n",
       "standard                      736.09          1746.42           664.75   \n",
       "well-off                      699.47          1298.23           731.35   \n",
       "\n",
       "                     Revenue_Brand_4  Revenue_Brand_5  Total_Revenue  \\\n",
       "SegmentLabel                                                           \n",
       "career-focused                861.38          2439.75       14676.85   \n",
       "fewer-opportunities          1629.31          2230.50       20703.26   \n",
       "standard                     2363.84         19441.06       24952.16   \n",
       "well-off                    14185.57          5509.69       22424.31   \n",
       "\n",
       "                     Segment_Proportion  \n",
       "SegmentLabel                             \n",
       "career-focused                    0.208  \n",
       "fewer-opportunities               0.376  \n",
       "standard                          0.220  \n",
       "well-off                          0.196  "
      ]
     },
     "execution_count": 32,
     "metadata": {},
     "output_type": "execute_result"
    }
   ],
   "source": [
    "df_revenue"
   ]
  },
  {
   "cell_type": "markdown",
   "metadata": {},
   "source": [
    "Let us make some graph to help us communicate the results."
   ]
  },
  {
   "cell_type": "code",
   "execution_count": 33,
   "metadata": {},
   "outputs": [],
   "source": [
    "# Create a new DataFrame\n",
    "df_revenue_plot_data = df_revenue[[f'Revenue_Brand_{i}' for i in range(1, 6)]].copy()\n",
    "df_revenue_plot_data.rename(columns={ f'Revenue_Brand_{i}': f'Brand {i}' for i in range(1, 6) }, inplace=True)"
   ]
  },
  {
   "cell_type": "code",
   "execution_count": 34,
   "metadata": {},
   "outputs": [],
   "source": [
    "sns_palette = sns.cubehelix_palette(8, start=.5, rot=-.75, dark=0.3)\n",
    "sns_palette_as_cmap = ListedColormap(sns_palette)\n",
    "# sns.palplot(sns_palette)"
   ]
  },
  {
   "cell_type": "code",
   "execution_count": 35,
   "metadata": {},
   "outputs": [
    {
     "data": {
      "image/png": "[encoded data removed]",
      "text/plain": [
       "<Figure size 1008x432 with 2 Axes>"
      ]
     },
     "metadata": {},
     "output_type": "display_data"
    }
   ],
   "source": [
    "fig, ax = plt.subplots(ncols=2, figsize=(14, 6))\n",
    "df_revenue_plot_data.plot(kind='bar', stacked=True, cmap=sns_palette_as_cmap, ax=ax[0])\n",
    "ax[0].set_title('Revenue by Segment')\n",
    "ax[0].set_xlabel('Segment')\n",
    "ax[0].set_ylabel('Revenue')\n",
    "ax[0].set_xticklabels(ax[0].get_xticklabels(), rotation=45, horizontalalignment='right');\n",
    "\n",
    "ax[1].pie(\n",
    "    x=df_segment_proportions['Proportion'], \n",
    "    labels=df_segment_proportions.index.values,\n",
    "    autopct='%1.1f%%',\n",
    "    colors=['lightskyblue', 'red', 'gold', 'green']\n",
    ")\n",
    "ax[1].set_title('Proportions of Store Visits by Segment');"
   ]
  },
  {
   "cell_type": "code",
   "execution_count": 36,
   "metadata": {},
   "outputs": [
    {
     "data": {
      "text/html": [
       "<div>\n",
       "<style scoped>\n",
       "    .dataframe tbody tr th:only-of-type {\n",
       "        vertical-align: middle;\n",
       "    }\n",
       "\n",
       "    .dataframe tbody tr th {\n",
       "        vertical-align: top;\n",
       "    }\n",
       "\n",
       "    .dataframe thead th {\n",
       "        text-align: right;\n",
       "    }\n",
       "</style>\n",
       "<table border=\"1\" class=\"dataframe\">\n",
       "  <thead>\n",
       "    <tr style=\"text-align: right;\">\n",
       "      <th>SegmentLabel</th>\n",
       "      <th>career-focused</th>\n",
       "      <th>fewer-opportunities</th>\n",
       "      <th>standard</th>\n",
       "      <th>well-off</th>\n",
       "    </tr>\n",
       "  </thead>\n",
       "  <tbody>\n",
       "    <tr>\n",
       "      <th>Total_Revenue</th>\n",
       "      <td>14676.85</td>\n",
       "      <td>20703.26</td>\n",
       "      <td>24952.16</td>\n",
       "      <td>22424.31</td>\n",
       "    </tr>\n",
       "  </tbody>\n",
       "</table>\n",
       "</div>"
      ],
      "text/plain": [
       "SegmentLabel   career-focused  fewer-opportunities  standard  well-off\n",
       "Total_Revenue        14676.85             20703.26  24952.16  22424.31"
      ]
     },
     "execution_count": 36,
     "metadata": {},
     "output_type": "execute_result"
    }
   ],
   "source": [
    "df_revenue[['Total_Revenue']].T"
   ]
  },
  {
   "cell_type": "markdown",
   "metadata": {},
   "source": [
    "The standard segment brings the most revenue followed by the well-off and fewer-opportunities. \n",
    "\n",
    "Although the standard group is the second largest segment (22 %), it brings the highest revenue (24,952). This is interesting finding. We can also see how this segment favours the Brand 5. It seems that they are the most prominent segment for the store with regard to the chocolate candy bars. \n",
    "\n",
    "Career-focused group is almost as large as the standard segment (21%) but it brings a bit more than half of the revenue (14,676). The career-focused account for the smallest revenue.\n",
    "\n",
    "The well-off and fewer-opportunities spend the same amount of money on chocolate candy bars. However, fewer-opportunities is almost twice as large as the well-off segment."
   ]
  },
  {
   "cell_type": "markdown",
   "metadata": {},
   "source": [
    "Let us look at the revenue by brand:"
   ]
  },
  {
   "cell_type": "code",
   "execution_count": 37,
   "metadata": {},
   "outputs": [
    {
     "data": {
      "image/png": "[encoded data removed]",
      "text/plain": [
       "<Figure size 864x432 with 1 Axes>"
      ]
     },
     "metadata": {},
     "output_type": "display_data"
    }
   ],
   "source": [
    "fig, ax = plt.subplots(figsize=(12, 6))\n",
    "df_revenue_plot_data.T.plot(kind='bar', stacked=True, color=segment_colours, ax=ax)\n",
    "ax.set_title('Revenue by Brand')\n",
    "ax.set_ylabel('Revenue')\n",
    "ax.set_xticklabels(ax.get_xticklabels(), rotation=0, horizontalalignment='center');"
   ]
  },
  {
   "cell_type": "code",
   "execution_count": 38,
   "metadata": {},
   "outputs": [
    {
     "data": {
      "text/plain": [
       "Brand 1     6305.65\n",
       "Brand 2    21768.31\n",
       "Brand 3     6021.52\n",
       "Brand 4    19040.10\n",
       "Brand 5    29621.00\n",
       "dtype: float64"
      ]
     },
     "execution_count": 38,
     "metadata": {},
     "output_type": "execute_result"
    }
   ],
   "source": [
    "df_revenue_plot_data.sum()"
   ]
  },
  {
   "cell_type": "markdown",
   "metadata": {},
   "source": [
    "- Brand 1: Generates the second-lowest revenue. Preferred by Career-focused and Fewer-Opportunities segments.\n",
    "\n",
    "- Brand 2: Second-largest revenue. Mostly generated by Fewer-Opportunities segment followed by Career-Focused segment.\n",
    "\n",
    "- Brand 3: The lowest revenue figures. Its highest contributor is Career-focused segment. This segment can be influenced more by the Brand 3. Perhaps, if Brand 3 reduces the price, then the Career-Focused segment could pivot towards Brand 3 instead of choosing the cheaper Brand 1 and Brand 2. Although it is not certain, it might be worth testing.\n",
    "\n",
    "- Brand 4: Revenue is almost exclusively generated by the Well-Off segment. The part of this segment who did not choose Brand 4, bought an even more expensive Brand 5. The Well-Off segment seem to be loyal and not effected by price. Therefore, it might be worthwhile to cautiously increase its price. The hypothesis is that Brand 4 are likely to retain most of its customers while increasing the revenue per sale."
   ]
  }
 ],
 "metadata": {
  "kernelspec": {
   "display_name": "Python 3",
   "language": "python",
   "name": "python3"
  },
  "language_info": {
   "codemirror_mode": {
    "name": "ipython",
    "version": 3
   },
   "file_extension": ".py",
   "mimetype": "text/x-python",
   "name": "python",
   "nbconvert_exporter": "python",
   "pygments_lexer": "ipython3",
   "version": "3.8.2"
  }
 },
 "nbformat": 4,
 "nbformat_minor": 4
}

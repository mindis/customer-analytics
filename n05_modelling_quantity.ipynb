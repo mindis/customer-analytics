{
 "cells": [
  {
   "cell_type": "markdown",
   "metadata": {},
   "source": [
    "# Modelling Purchase Quantity"
   ]
  },
  {
   "cell_type": "markdown",
   "metadata": {},
   "source": [
    "In this notebook, we build a statistical model which can estimate purchase quantity for each purchase. At this stage, we know that the customer have chosen a product from a brand in a specific product category. What is left to decide is number of units they want to buy.\n",
    "\n",
    "Following the law of demand, the greater the unit price of a product, the lower the purchase quantity. For a car, the quantity difference may be from one to zero e.g. if the price of a Tesla is acceptable then we would buy one unit, otherwise we would not any. Other low price products such as chocolate bars, we may consider buying zero, one or even 10 at once. Calculating price elasticities will show us exactly, how the purchase quantities move with the change in price."
   ]
  },
  {
   "cell_type": "markdown",
   "metadata": {},
   "source": [
    "## Code"
   ]
  },
  {
   "cell_type": "code",
   "execution_count": 1,
   "metadata": {},
   "outputs": [],
   "source": [
    "import pickle\n",
    "\n",
    "import numpy as np\n",
    "import pandas as pd\n",
    "import matplotlib.pyplot as plt\n",
    "import seaborn as sns\n",
    "\n",
    "from matplotlib.colors import ListedColormap\n",
    "\n",
    "from sklearn.linear_model import LinearRegression\n",
    "\n",
    "sns.set(style='whitegrid')"
   ]
  },
  {
   "cell_type": "code",
   "execution_count": 2,
   "metadata": {},
   "outputs": [],
   "source": [
    "df_purchases = pd.read_csv('data/fmcg-store-purchases-augmented.csv', index_col=0)\n",
    "\n",
    "segment_labels = pickle.load(open('models/segment-labels.pickle', 'rb'))\n",
    "\n",
    "segment_colours = ['lightskyblue', 'red', 'gold', 'green']\n",
    "segment_colour_palette = sns.color_palette(segment_colours)"
   ]
  },
  {
   "cell_type": "code",
   "execution_count": 3,
   "metadata": {},
   "outputs": [],
   "source": [
    "def train_model(df_data: pd.DataFrame):\n",
    "    X = df_data[['Price', 'Promotion']]\n",
    "    y = df_data['Quantity']\n",
    "    \n",
    "    model = LinearRegression()\n",
    "    model.fit(X, y)\n",
    "\n",
    "    return model\n",
    "\n",
    "def create_elasticity_data_frame(price_range_arr, price_elasticity):\n",
    "    elasticity_data = np.concatenate([price_range_arr, price_elasticity], axis=1)\n",
    "    return pd.DataFrame(elasticity_data, columns=['Price', 'Elasticity'])\n",
    "\n",
    "def calc_elasticity_for_quantity(df: pd.DataFrame, promotion: int, segment: int = None, price_range=(0.5, 3.5)):\n",
    "    # We are only interested in rows where customer bought one of more chocolates\n",
    "    df_data = df[df['Incidence'] == 1]\n",
    "    \n",
    "    if segment is not None:\n",
    "        df_data = df_data[df_data['Segment'] == segment]\n",
    "    \n",
    "    model = train_model(df_data)\n",
    "    \n",
    "    # Generate test data\n",
    "    price_range_arr = np.arange(price_range[0], price_range[1], 0.01).reshape(-1, 1)\n",
    "    promotion_arr = np.ones(price_range_arr.shape[0]).reshape(-1, 1) * promotion\n",
    "    X_test = np.concatenate([price_range_arr, promotion_arr], axis=1)\n",
    "    \n",
    "    # Generate predictions\n",
    "    quantity_preds = model.predict(X_test).reshape(-1, 1)\n",
    "    \n",
    "    # Compute the elasticity\n",
    "    price_coeff = model.coef_[0]\n",
    "    price_elasticity = price_coeff * price_range_arr / quantity_preds\n",
    "    \n",
    "    return create_elasticity_data_frame(price_range_arr, price_elasticity)"
   ]
  },
  {
   "cell_type": "markdown",
   "metadata": {},
   "source": [
    "## Linear Regression"
   ]
  },
  {
   "cell_type": "markdown",
   "metadata": {},
   "source": [
    "To solve the problem, we use a Linear Regression model to predict number of units. The advantage of Linear Regression is that it is easy to interpret."
   ]
  },
  {
   "cell_type": "code",
   "execution_count": 4,
   "metadata": {},
   "outputs": [],
   "source": [
    "def calc_price(row):\n",
    "    # Calculates the price of the selected brand\n",
    "    brand = row['Brand']\n",
    "    return 0 if brand == 0 else row[f'Price_{brand}']\n",
    "\n",
    "def calc_promotion(row):\n",
    "    brand = row['Brand']\n",
    "    return 0 if brand == 0 else row[f'Promotion_{brand}']\n",
    "\n",
    "df_purchases['Price'] = df_purchases.apply(calc_price, axis=1)\n",
    "df_purchases['Promotion'] = df_purchases.apply(calc_promotion, axis=1)"
   ]
  },
  {
   "cell_type": "code",
   "execution_count": 5,
   "metadata": {},
   "outputs": [],
   "source": [
    "df_data = df_purchases[df_purchases['Incidence'] == 1]"
   ]
  },
  {
   "cell_type": "code",
   "execution_count": 6,
   "metadata": {},
   "outputs": [
    {
     "data": {
      "text/html": [
       "<div>\n",
       "<style scoped>\n",
       "    .dataframe tbody tr th:only-of-type {\n",
       "        vertical-align: middle;\n",
       "    }\n",
       "\n",
       "    .dataframe tbody tr th {\n",
       "        vertical-align: top;\n",
       "    }\n",
       "\n",
       "    .dataframe thead th {\n",
       "        text-align: right;\n",
       "    }\n",
       "</style>\n",
       "<table border=\"1\" class=\"dataframe\">\n",
       "  <thead>\n",
       "    <tr style=\"text-align: right;\">\n",
       "      <th></th>\n",
       "      <th>count</th>\n",
       "      <th>mean</th>\n",
       "      <th>std</th>\n",
       "      <th>min</th>\n",
       "      <th>25%</th>\n",
       "      <th>50%</th>\n",
       "      <th>75%</th>\n",
       "      <th>max</th>\n",
       "    </tr>\n",
       "  </thead>\n",
       "  <tbody>\n",
       "    <tr>\n",
       "      <th>Quantity</th>\n",
       "      <td>14638.0</td>\n",
       "      <td>2.774559</td>\n",
       "      <td>1.796736</td>\n",
       "      <td>1.0</td>\n",
       "      <td>2.0</td>\n",
       "      <td>2.0</td>\n",
       "      <td>3.0</td>\n",
       "      <td>15.0</td>\n",
       "    </tr>\n",
       "  </tbody>\n",
       "</table>\n",
       "</div>"
      ],
      "text/plain": [
       "            count      mean       std  min  25%  50%  75%   max\n",
       "Quantity  14638.0  2.774559  1.796736  1.0  2.0  2.0  3.0  15.0"
      ]
     },
     "execution_count": 6,
     "metadata": {},
     "output_type": "execute_result"
    }
   ],
   "source": [
    "df_data[['Quantity']].describe().T"
   ]
  },
  {
   "cell_type": "markdown",
   "metadata": {},
   "source": [
    "There are several predictors that may influence purchase quantity:\n",
    "- Price: the decision of the number of units is influenced by the price of the chosen brand and not the prices of the other brands. We need to filter this information as well. \n",
    "- Promotion may also influence purchase quantity.\n",
    "\n",
    "Martial Status, Age, Education, Income, Occupation were used to predict the segment. Since the information in these features are already contained in our analysis, they will not be part of this model."
   ]
  },
  {
   "cell_type": "code",
   "execution_count": 7,
   "metadata": {},
   "outputs": [],
   "source": [
    "linear_model = train_model(df_data)"
   ]
  },
  {
   "cell_type": "code",
   "execution_count": 8,
   "metadata": {},
   "outputs": [
    {
     "data": {
      "text/plain": [
       "array([-0.8173651 , -0.10504673])"
      ]
     },
     "execution_count": 8,
     "metadata": {},
     "output_type": "execute_result"
    }
   ],
   "source": [
    "linear_model.coef_"
   ]
  },
  {
   "cell_type": "markdown",
   "metadata": {},
   "source": [
    "The coefficients shows the change in the dependent variable that is going to occur with a unit change respective independent variables. \n",
    "For every 1.0 increase in price, the purchase quantity will decrease by 0.82. This is obvious. \n",
    "If there is a promotion, the purchase quantity will decrease by 0.11. The model says that people would\n",
    "buy a bit less if there is a promotion. \n",
    "This unintuitive suggestion may have several plausible explanations:\n",
    "- the model is very simplified because we only have two predictors.\n",
    "- some important information is missing in our dataset\n",
    "- we are only considering the average consumer and not consumers in a particular segment\n",
    "- a promotion is prompting a consumer to try out a new brand. In this case, we do not expect consumers to buy many chocolate bars"
   ]
  },
  {
   "cell_type": "markdown",
   "metadata": {},
   "source": [
    "With these hypothesis in mind, let us compute the price elasticity which is the percentage change in purchase quantity in response to a 1% change in the unit price of the chosen brand assuming that nothing else but the price changes. \n",
    "\n",
    "The process is as follows:\n",
    "1. Fit a purchase quantity model: $f(\\cdot)$\n",
    "2. Assume that the price can take a wide range of values: $[p_1, p_2, \\cdots, p_N]$\n",
    "3. For each price point $p_i$, let the model predict the quantity $\\hat{q}_i = f(p_i)$.\n",
    "4. Using the predict quantity $\\hat{q}_i$, calculate price elasticity for price $p_i$"
   ]
  },
  {
   "cell_type": "code",
   "execution_count": 9,
   "metadata": {},
   "outputs": [],
   "source": [
    "df_pe_promo0 = calc_elasticity_for_quantity(df_purchases, promotion=0)\n",
    "df_pe_promo1 = calc_elasticity_for_quantity(df_purchases, promotion=1)"
   ]
  },
  {
   "cell_type": "code",
   "execution_count": 10,
   "metadata": {},
   "outputs": [],
   "source": [
    "min_price, max_price = df_data['Price'].min(), df_data['Price'].max()"
   ]
  },
  {
   "cell_type": "code",
   "execution_count": 11,
   "metadata": {},
   "outputs": [
    {
     "data": {
      "image/png": "[encoded data removed]",
      "text/plain": [
       "<Figure size 864x432 with 1 Axes>"
      ]
     },
     "metadata": {},
     "output_type": "display_data"
    }
   ],
   "source": [
    "fig, ax = plt.subplots(figsize=(12, 6))\n",
    "sns.lineplot(x='Price', y='Elasticity', data=df_pe_promo0, label='Without Promotion', ax=ax)\n",
    "sns.lineplot(x='Price', y='Elasticity', data=df_pe_promo1, label='With Promotion', ax=ax)\n",
    "ax.axvspan(df_data['Price'].min(), df_data['Price'].max(), color='grey', alpha=0.3)\n",
    "ax.set_title(\n",
    "    'Price Elasticity of Purchase Quantity with and without Promotion\\n'\n",
    "    '(Observed Price Range Shared Grey)'\n",
    ");"
   ]
  },
  {
   "cell_type": "markdown",
   "metadata": {},
   "source": [
    "In the observed price range, customers are inelastic towards purchase quantity. There is a slight elasticity when there is a promotion. \n",
    "Promotion does not look like a big factor. The two curves practically overlap at many price points. \n",
    "\n",
    "Neither price nor promotion shifts appear to effect the consumers decision with respect to the quantity. The reasons could be:\n",
    "- the variables that we included in our model might not hold any predictive value. Therefore, it seems like it does not make a lot of sense to focus too much on the purchase quantity.\n",
    "- our methodology is wrong. The main concern is that we are estimating a model based on the average consumer despite know that there are four distinct segments. One idea is to calculate the price elasticity of demand for each brand.\n",
    "\n"
   ]
  },
  {
   "cell_type": "code",
   "execution_count": null,
   "metadata": {},
   "outputs": [],
   "source": []
  }
 ],
 "metadata": {
  "kernelspec": {
   "display_name": "Python 3",
   "language": "python",
   "name": "python3"
  },
  "language_info": {
   "codemirror_mode": {
    "name": "ipython",
    "version": 3
   },
   "file_extension": ".py",
   "mimetype": "text/x-python",
   "name": "python",
   "nbconvert_exporter": "python",
   "pygments_lexer": "ipython3",
   "version": "3.8.2"
  }
 },
 "nbformat": 4,
 "nbformat_minor": 4
}

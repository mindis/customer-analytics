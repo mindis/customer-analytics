{
 "cells": [
  {
   "cell_type": "markdown",
   "metadata": {},
   "source": [
    "# Modelling Brand Choice Probability"
   ]
  },
  {
   "cell_type": "markdown",
   "metadata": {},
   "source": [
    "In this notebook, we explore how to model brand choice probability. In other words, we want to know which of the available brands will a customer buy, given that the customer already decided to buy a product from a specific product category. The main objective to develop a statistical model which estimate brand probability for each shopping trip based on historical purchase data. The resulting model can help marketers analyse the behaviour of their customers leading to an increase in customer satisfaction and a boost in sales."
   ]
  },
  {
   "cell_type": "markdown",
   "metadata": {},
   "source": [
    "## Code"
   ]
  },
  {
   "cell_type": "code",
   "execution_count": 1,
   "metadata": {},
   "outputs": [],
   "source": [
    "import pickle\n",
    "\n",
    "import numpy as np\n",
    "import pandas as pd\n",
    "import matplotlib.pyplot as plt\n",
    "import seaborn as sns\n",
    "\n",
    "from matplotlib.colors import ListedColormap\n",
    "\n",
    "from scipy.cluster.hierarchy import dendrogram, linkage\n",
    "\n",
    "from sklearn.preprocessing import StandardScaler\n",
    "from sklearn.cluster import KMeans\n",
    "from sklearn.decomposition import PCA\n",
    "from sklearn.linear_model import LogisticRegression\n",
    "\n",
    "import plotly.express as px\n",
    "\n",
    "sns.set(style='whitegrid')"
   ]
  },
  {
   "cell_type": "code",
   "execution_count": 2,
   "metadata": {},
   "outputs": [],
   "source": [
    "df_purchases = pd.read_csv('data/fmcg-store-purchases-augmented.csv', index_col=0)\n",
    "\n",
    "segment_labels = pickle.load(open('models/segment-labels.pickle', 'rb'))\n",
    "segment_colours = ['lightskyblue', 'red', 'gold', 'green']\n",
    "segment_colour_palette = sns.color_palette(segment_colours)"
   ]
  },
  {
   "cell_type": "code",
   "execution_count": 3,
   "metadata": {},
   "outputs": [],
   "source": [
    "def calc_brand_price_elasticity(df: pd.DataFrame, brand: int, price_range=(0.5, 3.5)):\n",
    "    # We are only interested in rows where customer bought one of more chocolates\n",
    "    df_data = df[df['Incidence'] == 1]\n",
    "    \n",
    "    # For now, we assume that only the price features effect the choice of brand,\n",
    "    # although other features such as promotion may also have an effect.\n",
    "    features = [f'Price_{i}' for i in range(1, 6)]\n",
    "    X = df_filtered_data[features]\n",
    "    y = df_filtered_data['Brand']\n",
    "    \n",
    "    # Fit a model\n",
    "    lr = LogisticRegression(solver='sag')\n",
    "    lr.fit(X, y)\n",
    "    \n",
    "    # Generate the test data\n",
    "    price_range_arr = np.arange(price_range[0], price_range[1], 0.01).reshape(-1, 1)\n",
    "    df_test_data = pd.DataFrame(index=np.arange(price_range_arr.shape[0]))\n",
    "    \n",
    "    for i in range(1, 6):\n",
    "        if i != brand:\n",
    "            # Fix the price of other brands to their mean\n",
    "            df_test_data[f'Price_{i}'] = np.mean(df_data[f'Price_{i}'])\n",
    "        else:\n",
    "            # Vary the prices of the brand of interest\n",
    "            df_test_data[f'Price_{i}'] = price_range_arr\n",
    "    \n",
    "    # Generate probabilities for all the brands given the test data\n",
    "    y_preds = lr.predict_proba(df_test_data)\n",
    "    \n",
    "    # The prediction matrix `y_preds` has the shape (n_rows, n_classes).\n",
    "    # Extract probabilities for the chosen brand.\n",
    "    brand_proba = y_preds[:][:, brand-1].reshape(-1, 1)\n",
    "    \n",
    "    # Find the price coefficient for the chosen brand\n",
    "    price_brand_coeff = lr.coef_[brand-1, brand-1]\n",
    "    \n",
    "    # Compute the elasticity\n",
    "    price_elasticity = price_brand_coeff * price_range_arr * (1 - brand_proba)\n",
    "    \n",
    "    elasticity_data = np.concatenate([price_range_arr, price_elasticity], axis=1)\n",
    "    df_elasticities = pd.DataFrame(elasticity_data, columns=['Price', 'Elasticity'])\n",
    "    \n",
    "    return df_elasticities\n",
    "    "
   ]
  },
  {
   "cell_type": "markdown",
   "metadata": {},
   "source": [
    "## Multinomial Logistic Regression Model"
   ]
  },
  {
   "cell_type": "code",
   "execution_count": 4,
   "metadata": {},
   "outputs": [],
   "source": [
    "# We are only interested in rows where customer bought one of more chocolates\n",
    "df_filtered_data = df_purchases[df_purchases['Incidence'] == 1]"
   ]
  },
  {
   "cell_type": "code",
   "execution_count": 5,
   "metadata": {},
   "outputs": [],
   "source": [
    "# For now, we assume that only the price features effect the choice of brand,\n",
    "# although other features such as promotion may also have an effect.\n",
    "features = [f'Price_{i}' for i in range(1, 6)]\n",
    "\n",
    "X = df_filtered_data[features]\n",
    "y = df_filtered_data['Brand']"
   ]
  },
  {
   "cell_type": "code",
   "execution_count": 6,
   "metadata": {},
   "outputs": [],
   "source": [
    "# Fit a model\n",
    "lr = LogisticRegression(solver='sag')\n",
    "lr.fit(X, y)\n",
    "\n",
    "# The coef_ returns the coefficient of the features in the decision function.\n",
    "# It is an Numpy array with shape (n_classes, n_features). Let us create\n",
    "# a DataFrame to be better able to interpret the results.\n",
    "df_coeffients = pd.DataFrame(\n",
    "    lr.coef_,\n",
    "    index=[f'Brand {i}' for i in range(1, 6)], \n",
    "    columns=[f'Price {i}' for i in range(1, 6)]\n",
    ")"
   ]
  },
  {
   "cell_type": "code",
   "execution_count": 7,
   "metadata": {},
   "outputs": [
    {
     "data": {
      "text/html": [
       "<div>\n",
       "<style scoped>\n",
       "    .dataframe tbody tr th:only-of-type {\n",
       "        vertical-align: middle;\n",
       "    }\n",
       "\n",
       "    .dataframe tbody tr th {\n",
       "        vertical-align: top;\n",
       "    }\n",
       "\n",
       "    .dataframe thead th {\n",
       "        text-align: right;\n",
       "    }\n",
       "</style>\n",
       "<table border=\"1\" class=\"dataframe\">\n",
       "  <thead>\n",
       "    <tr style=\"text-align: right;\">\n",
       "      <th></th>\n",
       "      <th>Brand 1</th>\n",
       "      <th>Brand 2</th>\n",
       "      <th>Brand 3</th>\n",
       "      <th>Brand 4</th>\n",
       "      <th>Brand 5</th>\n",
       "    </tr>\n",
       "  </thead>\n",
       "  <tbody>\n",
       "    <tr>\n",
       "      <th>Price 1</th>\n",
       "      <td>-3.92</td>\n",
       "      <td>1.27</td>\n",
       "      <td>1.62</td>\n",
       "      <td>0.57</td>\n",
       "      <td>0.44</td>\n",
       "    </tr>\n",
       "    <tr>\n",
       "      <th>Price 2</th>\n",
       "      <td>0.66</td>\n",
       "      <td>-1.88</td>\n",
       "      <td>0.56</td>\n",
       "      <td>0.40</td>\n",
       "      <td>0.26</td>\n",
       "    </tr>\n",
       "    <tr>\n",
       "      <th>Price 3</th>\n",
       "      <td>2.42</td>\n",
       "      <td>-0.21</td>\n",
       "      <td>0.50</td>\n",
       "      <td>-1.40</td>\n",
       "      <td>-1.31</td>\n",
       "    </tr>\n",
       "    <tr>\n",
       "      <th>Price 4</th>\n",
       "      <td>0.70</td>\n",
       "      <td>-0.21</td>\n",
       "      <td>1.04</td>\n",
       "      <td>-1.25</td>\n",
       "      <td>-0.29</td>\n",
       "    </tr>\n",
       "    <tr>\n",
       "      <th>Price 5</th>\n",
       "      <td>-0.20</td>\n",
       "      <td>0.59</td>\n",
       "      <td>0.45</td>\n",
       "      <td>0.25</td>\n",
       "      <td>-1.09</td>\n",
       "    </tr>\n",
       "  </tbody>\n",
       "</table>\n",
       "</div>"
      ],
      "text/plain": [
       "         Brand 1  Brand 2  Brand 3  Brand 4  Brand 5\n",
       "Price 1    -3.92     1.27     1.62     0.57     0.44\n",
       "Price 2     0.66    -1.88     0.56     0.40     0.26\n",
       "Price 3     2.42    -0.21     0.50    -1.40    -1.31\n",
       "Price 4     0.70    -0.21     1.04    -1.25    -0.29\n",
       "Price 5    -0.20     0.59     0.45     0.25    -1.09"
      ]
     },
     "execution_count": 7,
     "metadata": {},
     "output_type": "execute_result"
    }
   ],
   "source": [
    "df_coeffients.T.round(2)"
   ]
  },
  {
   "cell_type": "markdown",
   "metadata": {},
   "source": [
    "As an example, let us consider Brand 1. The coefficient of Brand 1 w.r.t. its price is negative. We already know that the higher price of our own product, the lower the purchase probability. So it makes sense the price to be negative. We also observe that the coefficient is positive for Price 2, 3 and 4. There is a positive relationship between our Brand 1's purchase probability and competitor brands 2-4 increasing their prices. So if these brands increase their prices, the higher is the likelihood that consumers switching to Brand 1.\n",
    "\n",
    "The band choice probability of any brand compared to the other brands are interrelated. The marketing mix tool of our brand reflects, not only the choice probability of our brand, but the choice probabilities for all other brands as well. These effects are known as own brand and cross brand effects. We can examine these effects when we calculate their respective elasticities.\n",
    "\n",
    "Suppose we are working for Brand 5 so we are mostly interested in knowing the effects of price changes to Brand 5 (Own Price Elasticity). It would also be interesting to find out what would happen if the competitors change their prices (Cross Price Elasticity)."
   ]
  },
  {
   "cell_type": "markdown",
   "metadata": {},
   "source": [
    "## Own Price Elasticty for Brand 5"
   ]
  },
  {
   "cell_type": "markdown",
   "metadata": {},
   "source": [
    "Let us focus on the most expensive brand and create own price elasticity."
   ]
  },
  {
   "cell_type": "code",
   "execution_count": 8,
   "metadata": {},
   "outputs": [],
   "source": [
    "df_brand_5_elasticities = calc_brand_price_elasticity(df_purchases, brand=5)"
   ]
  },
  {
   "cell_type": "code",
   "execution_count": 9,
   "metadata": {},
   "outputs": [
    {
     "data": {
      "image/png": "[encoded data removed]",
      "text/plain": [
       "<Figure size 864x432 with 1 Axes>"
      ]
     },
     "metadata": {},
     "output_type": "display_data"
    }
   ],
   "source": [
    "fig, ax = plt.subplots(figsize=(12, 6))\n",
    "sns.lineplot(x='Price', y='Elasticity', data=df_brand_5_elasticities, color='grey', ax=ax)\n",
    "ax.set_title('Own Price Elasticity of Purchase Probability for Brand 5');"
   ]
  },
  {
   "cell_type": "code",
   "execution_count": null,
   "metadata": {},
   "outputs": [],
   "source": []
  }
 ],
 "metadata": {
  "kernelspec": {
   "display_name": "Python 3",
   "language": "python",
   "name": "python3"
  },
  "language_info": {
   "codemirror_mode": {
    "name": "ipython",
    "version": 3
   },
   "file_extension": ".py",
   "mimetype": "text/x-python",
   "name": "python",
   "nbconvert_exporter": "python",
   "pygments_lexer": "ipython3",
   "version": "3.8.2"
  }
 },
 "nbformat": 4,
 "nbformat_minor": 4
}
